{
  "nbformat": 4,
  "nbformat_minor": 0,
  "metadata": {
    "colab": {
      "name": "Audio Denoiser.ipynb",
      "provenance": [],
      "collapsed_sections": [],
      "machine_shape": "hm"
    },
    "kernelspec": {
      "name": "python3",
      "display_name": "Python 3"
    },
    "accelerator": "GPU"
  },
  "cells": [
    {
      "cell_type": "markdown",
      "metadata": {
        "id": "JORqh0W6ko3U"
      },
      "source": [
        "# Import a bunch"
      ]
    },
    {
      "cell_type": "code",
      "metadata": {
        "id": "IthQX_B8WMXG",
        "outputId": "2250bc6e-b358-4dc6-aaab-ea3d04740176",
        "colab": {
          "base_uri": "https://localhost:8080/",
          "height": 88
        }
      },
      "source": [
        "!pip install pydub\n",
        "#!pip install librosa==0.8.0"
      ],
      "execution_count": null,
      "outputs": [
        {
          "output_type": "stream",
          "text": [
            "Collecting pydub\n",
            "  Downloading https://files.pythonhosted.org/packages/7b/d1/fbfa79371a8cd9bb15c2e3c480d7e6e340ed5cc55005174e16f48418333a/pydub-0.24.1-py2.py3-none-any.whl\n",
            "Installing collected packages: pydub\n",
            "Successfully installed pydub-0.24.1\n"
          ],
          "name": "stdout"
        }
      ]
    },
    {
      "cell_type": "code",
      "metadata": {
        "id": "aBhDKGl1h90p"
      },
      "source": [
        "# Import a bunch\n",
        "import librosa, librosa.display\n",
        "import matplotlib.pyplot as plt\n",
        "import numpy as np\n",
        "import math\n",
        "import pandas as pd\n",
        "import matplotlib\n",
        "import matplotlib.image as mpimg\n",
        "import seaborn as sns\n",
        "import os\n",
        "from glob import glob\n",
        "import shutil\n",
        "import pathlib\n",
        "import random\n",
        "import pickle\n",
        "from IPython.display import Audio\n",
        "import pydub\n",
        "\n",
        "# Model\n",
        "import tensorflow as tf\n",
        "import tensorflow.keras as keras\n",
        "from sklearn.model_selection import train_test_split\n",
        "from tensorflow.keras.models import *\n",
        "from tensorflow.keras.layers import *\n",
        "from tensorflow.keras.optimizers import *\n",
        "from tensorflow.keras.callbacks import ModelCheckpoint, LearningRateScheduler\n",
        "from tensorflow.keras import backend \n",
        "from tensorflow.keras import initializers\n",
        "import tensorflow as tf\n",
        "print(tf.__version__)\n",
        "\n"
      ],
      "execution_count": null,
      "outputs": []
    },
    {
      "cell_type": "code",
      "metadata": {
        "id": "xIprw9gmlmzX",
        "outputId": "b0787168-bc41-494b-f5ed-55ced104e9cb",
        "colab": {
          "base_uri": "https://localhost:8080/",
          "height": 35
        }
      },
      "source": [
        "from google.colab import drive\n",
        "drive.mount('/content/drive')"
      ],
      "execution_count": null,
      "outputs": [
        {
          "output_type": "stream",
          "text": [
            "Mounted at /content/drive\n"
          ],
          "name": "stdout"
        }
      ]
    },
    {
      "cell_type": "markdown",
      "metadata": {
        "id": "7VDHLMOFkkPs"
      },
      "source": [
        "# Extract data"
      ]
    },
    {
      "cell_type": "code",
      "metadata": {
        "id": "Pk9lyjjxiKFU",
        "outputId": "5825f487-7960-4fa1-aa56-0b157c480fa4",
        "colab": {
          "resources": {
            "http://localhost:8080/nbextensions/google.colab/files.js": {
              "data": "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",
              "ok": true,
              "headers": [
                [
                  "content-type",
                  "application/javascript"
                ]
              ],
              "status": 200,
              "status_text": ""
            }
          },
          "base_uri": "https://localhost:8080/",
          "height": 74
        }
      },
      "source": [
        "# Install kaggle\n",
        "! pip install -q kaggle\n",
        "#Upload json file\n",
        "from google.colab import files\n",
        "files.upload()"
      ],
      "execution_count": null,
      "outputs": [
        {
          "output_type": "display_data",
          "data": {
            "text/html": [
              "\n",
              "     <input type=\"file\" id=\"files-244d08e8-39e3-4d23-81d2-8690b6e439d8\" name=\"files[]\" multiple disabled\n",
              "        style=\"border:none\" />\n",
              "     <output id=\"result-244d08e8-39e3-4d23-81d2-8690b6e439d8\">\n",
              "      Upload widget is only available when the cell has been executed in the\n",
              "      current browser session. Please rerun this cell to enable.\n",
              "      </output>\n",
              "      <script src=\"/nbextensions/google.colab/files.js\"></script> "
            ],
            "text/plain": [
              "<IPython.core.display.HTML object>"
            ]
          },
          "metadata": {
            "tags": []
          }
        },
        {
          "output_type": "stream",
          "text": [
            "Saving kaggle.json to kaggle.json\n"
          ],
          "name": "stdout"
        },
        {
          "output_type": "execute_result",
          "data": {
            "text/plain": [
              "{'kaggle.json': b'{\"username\":\"datnguyn\",\"key\":\"69c14f649dd7364914db7810156aeea6\"}'}"
            ]
          },
          "metadata": {
            "tags": []
          },
          "execution_count": 3
        }
      ]
    },
    {
      "cell_type": "code",
      "metadata": {
        "id": "km9CWj-7iLfh",
        "outputId": "1591e907-ab12-43fc-aa12-eb4b8dfcdeb3",
        "colab": {
          "base_uri": "https://localhost:8080/",
          "height": 124
        }
      },
      "source": [
        "# Download dataset\n",
        "! mkdir ~/.kaggle\n",
        "! cp kaggle.json ~/.kaggle/\n",
        "! chmod 600 ~/.kaggle/kaggle.json\n",
        "! kaggle datasets download -d mozillaorg/common-voice\n",
        "! kaggle datasets download -d chrisfilo/urbansound8k"
      ],
      "execution_count": null,
      "outputs": [
        {
          "output_type": "stream",
          "text": [
            "Downloading common-voice.zip to /content\n",
            "100% 12.0G/12.0G [04:52<00:00, 45.9MB/s]\n",
            "100% 12.0G/12.0G [04:52<00:00, 44.1MB/s]\n",
            "Downloading urbansound8k.zip to /content\n",
            "100% 5.61G/5.61G [02:27<00:00, 48.4MB/s]\n",
            "100% 5.61G/5.61G [02:27<00:00, 40.7MB/s]\n"
          ],
          "name": "stdout"
        }
      ]
    },
    {
      "cell_type": "code",
      "metadata": {
        "id": "k5zoxo8eiiqe"
      },
      "source": [
        "# Extract dataset\n",
        "# Common Voice\n",
        "%mkdir /content/common_voice\n",
        "%cd /content/common_voice\n",
        "!unzip /content/common-voice.zip && rm /content/common-voice.zip\n",
        "# Urban Sound\n",
        "%mkdir /content/urban_sound\n",
        "%cd /content/urban_sound\n",
        "!unzip /content/urbansound8k.zip && rm /content/urbansound8k.zip\n",
        "\n",
        "#Return to main directory\n",
        "%cd /content/"
      ],
      "execution_count": null,
      "outputs": []
    },
    {
      "cell_type": "markdown",
      "metadata": {
        "id": "fjhOR-GrlDiC"
      },
      "source": [
        "# Functions definition"
      ]
    },
    {
      "cell_type": "code",
      "metadata": {
        "id": "ez9ErimAlHUn"
      },
      "source": [
        "#Utils\n",
        "\n",
        "# Convert from .mp3 files to .wav files\n",
        "def convert_to_wav(path, destination_path):\n",
        "  filenames = os.path.split(path)[-1]\n",
        "  # convert wav to mp3                                                            \n",
        "  sound = pydub.AudioSegment.from_mp3(path)\n",
        "  sound.export(os.path.join(destination_path, str(filenames[:-4]+'.wav')), format=\"wav\")\n",
        "  os.remove(path)\n",
        "# Read .wav files\n",
        "def read_wav(path, sr=8000):\n",
        "  signal, sr = librosa.load(path, sr=8000, mono=True)\n",
        "  return signal\n",
        "# Trim silence audio\n",
        "#def trim_audio(audio):\n",
        "#  signal, sr = librosa.effects.trim(audio, top_db=10)\n",
        "#  return signal\n",
        "# Combine clean audio and noisy audio\n",
        "def get_noisy_audio(clean_audio, noise_signal):\n",
        "  if len(clean_audio) >= len(noise_signal):\n",
        "    while len(clean_audio) >= len(noise_signal):\n",
        "        noise_signal = np.append(noise_signal, noise_signal)\n",
        "  ## Extract a noise segment from a random location in the noise file\n",
        "  ind = np.random.randint(0, noise_signal.size - clean_audio.size)\n",
        "  noiseSegment = noise_signal[ind: ind + clean_audio.size]\n",
        "  speech_power = np.sum(clean_audio ** 2)\n",
        "  noise_power = np.sum(noiseSegment ** 2)\n",
        "  noisyAudio = clean_audio + np.sqrt(speech_power / noise_power) * noiseSegment\n",
        "  return noisyAudio\n",
        "# Extended short sound\n",
        "#def extend_short_sounds(data, target_duration=24000):\n",
        "#  stretched = librosa.effects.time_stretch(data, rate=data.shape[0]/target_duration)\n",
        "#  return stretched[:target_duration:]\n",
        "\n",
        "# Load pickle file\n",
        "def load_data(pikcle_path):\n",
        "  with open(pikcle_path, \"rb\") as fp: # opening for reading\n",
        "    data = pickle.load(fp)\n",
        "  # convert list into numpy arrays\n",
        "  # inputs = np.array(data['train_data_noisy'])\n",
        "  # targets = np.array(data['train_data'])\n",
        "  return data\n",
        "# Save data to pickle file\n",
        "def save_pickle(pickle_path, data_dict):\n",
        "  with open(pickle_path, \"wb\") as fp: # opening for reading\n",
        "    pickle.dump(data_dict, fp)"
      ],
      "execution_count": null,
      "outputs": []
    },
    {
      "cell_type": "code",
      "metadata": {
        "id": "jbiN0DxolIcW"
      },
      "source": [
        "# Get spectrogram and STFT\n",
        "def get_stft(signal, n_fft=255, hop_length=188):\n",
        "    return librosa.stft(signal, n_fft=n_fft, hop_length=hop_length, center=True)\n",
        "\n",
        "def data_to_spec(signal):\n",
        "    if signal.shape[0] > 24000:\n",
        "      idx = np.random.randint(0, signal.shape[0] - 24000) #Slide the signal to 3s length\n",
        "      signal = signal[idx: idx + 24000]\n",
        "      stft = get_stft(signal)\n",
        "      spec, phase = librosa.magphase(stft)\n",
        "      spec = librosa.amplitude_to_db(spec, ref=np.max)\n",
        "      return spec, phase\n",
        "    elif signal.shape[0] < 24000: #Ignore short signal under 3s length\n",
        "      pass\n",
        "\n",
        "def file_to_spec(path):\n",
        "    signal = read_wav(path)\n",
        "    #if signal.shape[0] > 24000:\n",
        "    #  idx = np.random.randint(0, signal.shape[0] - 24000) #Avoid keeping the silence audio at the beginning\n",
        "    #  signal = signal[idx: idx + 24000]\n",
        "    return data_to_spec(signal)\n",
        "    #elif signal.shape[0] < 24000:\n",
        "    #  pass\n",
        "\n",
        "def get_audio_from_stft(stft_features):\n",
        "    return librosa.griffinlim(stft_features)\n",
        "\n",
        "def get_audio_from_spec(spectrogram, phase, hop_length=188, length=24000):\n",
        "  D = librosa.db_to_amplitude(spectrogram, ref=1)\n",
        "  D_re = D*phase\n",
        "  audio_reconstruct = librosa.core.istft(D_re, hop_length=hop_length, length=length)\n",
        "  return Audio(audio_reconstruct, rate=8000)\n",
        "  "
      ],
      "execution_count": null,
      "outputs": []
    },
    {
      "cell_type": "code",
      "metadata": {
        "id": "BCRSI2zqlLeH"
      },
      "source": [
        "# Get MFCC\n",
        "def data_to_mfcc(data):\n",
        "    return librosa.feature.mfcc(data) \n",
        "\n",
        "def file_to_mfcc(path):\n",
        "    data, rate = librosa.load(path)\n",
        "    if data.shape[0] != TARGET_LEN: # handle short sounds\n",
        "        data = extend_short_sounds(data)\n",
        "    return data_to_mfcc(data)"
      ],
      "execution_count": null,
      "outputs": []
    },
    {
      "cell_type": "code",
      "metadata": {
        "id": "GpXVjh1m0-05"
      },
      "source": [
        "#norm_value = 2 * data ./ (max_range_value - min_range_value);\n",
        "def scaled_in(matrix_spec):\n",
        "    \"global scaling apply to noisy voice spectrograms (scale between -1 and 1)\"\n",
        "    matrix_spec = (matrix_spec + 46)/50\n",
        "    return matrix_spec\n",
        "\n",
        "def scaled_ou(matrix_spec):\n",
        "    \"global scaling apply to noise models spectrograms (scale between -1 and 1)\"\n",
        "    matrix_spec = (matrix_spec -6 )/82\n",
        "    return matrix_spec\n",
        "\n",
        "def inv_scaled_in(matrix_spec):\n",
        "    \"inverse global scaling apply to noisy voices spectrograms\"\n",
        "    matrix_spec = matrix_spec * 50 - 46\n",
        "    return matrix_spec\n",
        "\n",
        "def inv_scaled_ou(matrix_spec):\n",
        "    \"inverse global scaling apply to noise models spectrograms\"\n",
        "    matrix_spec = matrix_spec * 82 + 6\n",
        "    return matrix_spec\n"
      ],
      "execution_count": null,
      "outputs": []
    },
    {
      "cell_type": "code",
      "metadata": {
        "id": "UZGlJpt_aiiU"
      },
      "source": [
        "# Prediction - Input preprocessing\n",
        "def data_to_spec_auto_scale(audio_path):\n",
        "    signal = read_wav(audio_path)\n",
        "    frame_length = signal.shape[0]\n",
        "    hop_length = math.floor(frame_length/127)\n",
        "    stft = librosa.stft(signal, n_fft=255, hop_length=hop_length, center=True)\n",
        "    if stft.shape[1] == 128:\n",
        "      spec, phase = librosa.magphase(stft)\n",
        "      spec = librosa.amplitude_to_db(spec, ref=np.max)\n",
        "      return spec, phase, hop_length, frame_length\n",
        "    else:\n",
        "      hop_length = hop_length-1\n",
        "      stft = librosa.stft(signal, n_fft=255, hop_length=hop_length, center=True)\n",
        "      spec, phase = librosa.magphase(stft)\n",
        "      spec = librosa.amplitude_to_db(spec, ref=1)\n",
        "      return spec, phase, hop_length, frame_length   \n",
        "\n",
        "# Prediction\n",
        "def predict(audio_path):\n",
        "    print(os.getcwd())\n",
        "    model = keras.models.load_model('./model.h5')\n",
        "    a, b, c, d = data_to_spec_auto_scale(audio_path)\n",
        "    a = a[np.newaxis, ..., np.newaxis]\n",
        "    m = model.predict(a)\n",
        "    m_ou = a - m\n",
        "    n_ou = np.squeeze(m_ou, (0, 3))\n",
        "    n_ou = magnitude_db_and_phase_to_audio(n_ou, b, d, c)\n",
        "    return n_ou\n",
        "\n",
        "# Output preprocessing\n",
        "def signal_to_audio(spec, phase, frame_length, hop_length_fft):\n",
        "    \"\"\"This functions reverts a spectrogram to an audio\"\"\"\n",
        "\n",
        "    spec_to_amplitude = librosa.db_to_amplitude(spec, ref=1.0)\n",
        "\n",
        "    # taking magnitude and phase of audio\n",
        "    denoised_signal = spec_to_amplitude * phase\n",
        "    denoised_audio = librosa.core.istft(denoised_signal, hop_length=hop_length_fft, length=frame_length)\n",
        "\n",
        "    return Audio(denoised_audio, rate=8000)"
      ],
      "execution_count": null,
      "outputs": []
    },
    {
      "cell_type": "markdown",
      "metadata": {
        "id": "0Ssw9E5qlMZ1"
      },
      "source": [
        "# Preparing STFT Dataset"
      ]
    },
    {
      "cell_type": "code",
      "metadata": {
        "id": "4pGvPYDSi6_P",
        "outputId": "5e8f1605-7fb3-44b3-d1a1-5211993b837b",
        "colab": {
          "base_uri": "https://localhost:8080/",
          "height": 35
        }
      },
      "source": [
        "# Getting list of mp3 files\n",
        "mp3_data_path = pathlib.Path('/content/common_voice/cv-valid-train/cv-valid-train')\n",
        "mp3_audio_paths = [os.path.join(mp3_data_path, name) for name in os.listdir(mp3_data_path) if os.path.isfile(os.path.join(mp3_data_path, name))]\n",
        "len(mp3_audio_paths)"
      ],
      "execution_count": null,
      "outputs": [
        {
          "output_type": "execute_result",
          "data": {
            "text/plain": [
              "195776"
            ]
          },
          "metadata": {
            "tags": []
          },
          "execution_count": 9
        }
      ]
    },
    {
      "cell_type": "code",
      "metadata": {
        "id": "vteN27W2_MpJ"
      },
      "source": [
        "#Remore redundant directories\n",
        "\n",
        "#shutil.rmtree('/content/common_voice/cv-other-dev')\n",
        "#shutil.rmtree('/content/common_voice/cv-invalid')\n",
        "#shutil.rmtree('/content/common_voice/cv-other-test')\n",
        "#shutil.rmtree('/content/common_voice/cv-other-train')\n",
        "#shutil.rmtree('/content/common_voice/cv-valid-dev')\n",
        "#shutil.rmtree('/content/common_voice/cv-valid-test')\n",
        "#shutil.rmtree('/content/clean')\n",
        "#random.shuffle(mp3_audio_paths)\n",
        "#shutil.rmtree('/content/common_voice')\n",
        "#shutil.rmtree('/content/urban_sound')"
      ],
      "execution_count": null,
      "outputs": []
    },
    {
      "cell_type": "code",
      "metadata": {
        "id": "QCYSkclIlvTv"
      },
      "source": [
        "# Converting Common Voice .mp3 files to .wav\n",
        "dest = '/content/clean'\n",
        "for i in range(10001,15001):\n",
        "  count = 0\n",
        "  try:\n",
        "    if i % 500 ==0:\n",
        "      print('processed {}'.format(i))\n",
        "    convert_to_wav(mp3_audio_paths[i], dest)\n",
        "  except:\n",
        "    count +=1\n",
        "    pass"
      ],
      "execution_count": null,
      "outputs": []
    },
    {
      "cell_type": "code",
      "metadata": {
        "id": "PHj902yZlypR",
        "outputId": "8a993918-166c-417a-8947-384fdf7b97d9",
        "colab": {
          "base_uri": "https://localhost:8080/",
          "height": 35
        }
      },
      "source": [
        "# New .wav files\n",
        "data_path = pathlib.Path('/content/clean')\n",
        "all_train_paths = [os.path.join(data_path, name) for name in os.listdir(data_path) if os.path.isfile(os.path.join(data_path, name))]\n",
        "len(all_train_paths)"
      ],
      "execution_count": null,
      "outputs": [
        {
          "output_type": "execute_result",
          "data": {
            "text/plain": [
              "15000"
            ]
          },
          "metadata": {
            "tags": []
          },
          "execution_count": 17
        }
      ]
    },
    {
      "cell_type": "code",
      "metadata": {
        "id": "FCWxLS8LjMLQ",
        "outputId": "b7e67300-3843-4050-c33e-44baf5ed12fb",
        "colab": {
          "base_uri": "https://localhost:8080/",
          "height": 35
        }
      },
      "source": [
        "# Move all noise files into one folder\n",
        "src_noise_files = glob(os.path.join('/content/urban_sound', '*', '*.wav'))\n",
        "noise_dir = pathlib.Path('/content/noises')\n",
        "for wav_file in src_noise_files:\n",
        "  shutil.move((wav_file),(noise_dir))\n",
        "\n",
        "# Getting list of noise files\n",
        "all_noise_path = glob(os.path.join(noise_dir, '*.wav'))\n",
        "len(all_noise_path)"
      ],
      "execution_count": null,
      "outputs": [
        {
          "output_type": "execute_result",
          "data": {
            "text/plain": [
              "8732"
            ]
          },
          "metadata": {
            "tags": []
          },
          "execution_count": 18
        }
      ]
    },
    {
      "cell_type": "code",
      "metadata": {
        "id": "Jd3j3VmxoR6R"
      },
      "source": [
        "# Shuffle the list of files\n",
        "random.shuffle(all_train_paths)\n",
        "random.shuffle(all_noise_path)"
      ],
      "execution_count": null,
      "outputs": []
    },
    {
      "cell_type": "code",
      "metadata": {
        "id": "I420AL3MjXhc"
      },
      "source": [
        "# Get signal of audio and noisy audio\n",
        "train_audio = []\n",
        "train_audio_noisy = []\n",
        "count = 0\n",
        "count_success = 0\n",
        "for path in all_train_paths:\n",
        "  \n",
        "  clean_signal = read_wav(path)\n",
        "  noise_file = random.choice(all_noise_path)\n",
        "  noise_audio = read_wav(noise_file)\n",
        "  noisy_signal = get_noisy_audio(clean_signal, noise_audio)\n",
        "  if clean_signal.shape[0] == noisy_signal.shape[0]:\n",
        "    train_audio.append(clean_signal)\n",
        "    train_audio_noisy.append(noisy_signal)\n",
        "    count_success += 1\n",
        "    if count_success % 100 == 0:\n",
        "      print('Processed {}'.format(count_success))\n",
        "    \n",
        "  else:\n",
        "    count += 1\n",
        "print(count)"
      ],
      "execution_count": null,
      "outputs": []
    },
    {
      "cell_type": "code",
      "metadata": {
        "id": "gG7Og-dNjZ3L"
      },
      "source": [
        "# Get spectrogram of clean and noisy data\n",
        "data={\n",
        "    'clean_train_data': [],\n",
        "    'noisy_train_data': []\n",
        "}\n",
        "for i in range(len(train_audio)):\n",
        "  try:\n",
        "    clean_spec, clean_phase = data_to_spec(train_audio[i])\n",
        "    noisy_spec, noisy_phase = data_to_spec(train_audio_noisy[i])\n",
        "    data['clean_train_data'].append(clean_spec)\n",
        "    data['noisy_train_data'].append(noisy_spec)\n",
        "  except:\n",
        "    print('Skip file: {}'.format(i))\n",
        "    pass"
      ],
      "execution_count": null,
      "outputs": []
    },
    {
      "cell_type": "code",
      "metadata": {
        "id": "K8MOQeAeYaNG"
      },
      "source": [
        "# Save to pickle file for further uses\n",
        "save_pickle('/content/drive/My Drive/train_audio.pkl', data['clean_train_data'])\n",
        "save_pickle('/content/drive/My Drive/train_audio_noisy.pkl',data['noisy_train_data'])"
      ],
      "execution_count": null,
      "outputs": []
    },
    {
      "cell_type": "code",
      "metadata": {
        "id": "-zUZ8gY8PFFK",
        "outputId": "d7b655c5-933f-4379-86a9-fe1b7e02ccef",
        "colab": {
          "base_uri": "https://localhost:8080/",
          "height": 35
        }
      },
      "source": [
        "print('Available file for training: {} files'.format(len(data['clean_train_data'])))"
      ],
      "execution_count": null,
      "outputs": [
        {
          "output_type": "stream",
          "text": [
            "Available file for training: 11618\n"
          ],
          "name": "stdout"
        }
      ]
    },
    {
      "cell_type": "code",
      "metadata": {
        "id": "Iteo2EEHhYDG"
      },
      "source": [
        "X = np.array(data['noisy_train_data'])\n",
        "y = np.array(data['clean_train_data'])"
      ],
      "execution_count": null,
      "outputs": []
    },
    {
      "cell_type": "code",
      "metadata": {
        "id": "h8Xr5BMXVhru"
      },
      "source": [
        "y_re = X-y"
      ],
      "execution_count": null,
      "outputs": []
    },
    {
      "cell_type": "code",
      "metadata": {
        "id": "IkbqWbq6PcA5"
      },
      "source": [
        "X = X[..., np.newaxis]\n",
        "y = y[..., np.newaxis]\n",
        "X_train, X_test, y_train, y_test = train_test_split(X, y, test_size=0.20, random_state=42)"
      ],
      "execution_count": null,
      "outputs": []
    },
    {
      "cell_type": "code",
      "metadata": {
        "id": "4OAaCjrvWCpk",
        "outputId": "20ef1125-4d66-46d0-9e11-b7268d3efc26",
        "colab": {
          "base_uri": "https://localhost:8080/",
          "height": 35
        }
      },
      "source": [
        "X"
      ],
      "execution_count": null,
      "outputs": [
        {
          "output_type": "execute_result",
          "data": {
            "text/plain": [
              "(11618, 128, 128, 1)"
            ]
          },
          "metadata": {
            "tags": []
          },
          "execution_count": 50
        }
      ]
    },
    {
      "cell_type": "markdown",
      "metadata": {
        "id": "0crnFu5qYgH4"
      },
      "source": [
        "# Training"
      ]
    },
    {
      "cell_type": "code",
      "metadata": {
        "id": "qUzOpgIODAAb"
      },
      "source": [
        "# Load data from pickle file\n",
        "X = load_data('/content/drive/My Drive/data/full_noise.pkl')\n",
        "y = load_data('/content/drive/My Drive/data/full_train.pkl')"
      ],
      "execution_count": null,
      "outputs": []
    },
    {
      "cell_type": "code",
      "metadata": {
        "id": "W_R6T0_mA1o_",
        "outputId": "a8c3335c-6794-4c09-e943-3525dc6390b5",
        "colab": {
          "base_uri": "https://localhost:8080/",
          "height": 35
        }
      },
      "source": [
        "print('Available for train: {} files'.format(X.shape[0]))"
      ],
      "execution_count": null,
      "outputs": [
        {
          "output_type": "stream",
          "text": [
            "Available for train: 48082 files\n"
          ],
          "name": "stdout"
        }
      ]
    },
    {
      "cell_type": "code",
      "metadata": {
        "id": "E8reiRU77O66",
        "outputId": "cc6148e3-7b50-4cdb-f969-30635af2ba45",
        "colab": {
          "base_uri": "https://localhost:8080/",
          "height": 35
        }
      },
      "source": [
        "#Define UNet\n",
        "def unet(pretrained_weights = None,input_size = (128,128,1)):\n",
        "    size_filter_in = 16\n",
        "    #kernel_init = 'glorot_uniform'\n",
        "    #kernel_init = tf.keras.initializers.glorot_normal\n",
        "    activation_layer = None \n",
        "    inputs = Input(input_size)\n",
        "    conv1 = Conv2D(size_filter_in, 3, activation = activation_layer, padding = 'same', kernel_initializer = tf.keras.initializers.HeNormal(),\n",
        "                                        bias_initializer=tf.keras.initializers.zeros())(inputs)\n",
        "    conv1 = LeakyReLU()(conv1)\n",
        "    conv1 = Conv2D(size_filter_in, 3, activation = activation_layer, padding = 'same', kernel_initializer = tf.keras.initializers.HeNormal(),\n",
        "                                        bias_initializer=tf.keras.initializers.zeros())(conv1)\n",
        "    conv1 = LeakyReLU()(conv1)\n",
        "    pool1 = MaxPooling2D(pool_size=(2, 2))(conv1)\n",
        "    conv2 = Conv2D(size_filter_in*2, 3, activation = activation_layer, padding = 'same', kernel_initializer = tf.keras.initializers.HeNormal(),\n",
        "                                        bias_initializer=tf.keras.initializers.zeros())(pool1)\n",
        "    conv2 = LeakyReLU()(conv2)\n",
        "    conv2 = Conv2D(size_filter_in*2, 3, activation = activation_layer, padding = 'same', kernel_initializer = tf.keras.initializers.HeNormal(),\n",
        "                                        bias_initializer=tf.keras.initializers.zeros())(conv2)\n",
        "    conv2 = LeakyReLU()(conv2)\n",
        "    pool2 = MaxPooling2D(pool_size=(2, 2))(conv2)\n",
        "    conv3 = Conv2D(size_filter_in*4, 3, activation = activation_layer, padding = 'same', kernel_initializer = tf.keras.initializers.HeNormal(),\n",
        "                                        bias_initializer=tf.keras.initializers.zeros())(pool2)\n",
        "    conv3 = LeakyReLU()(conv3)\n",
        "    conv3 = Conv2D(size_filter_in*4, 3, activation = activation_layer, padding = 'same', kernel_initializer = tf.keras.initializers.HeNormal(),\n",
        "                                        bias_initializer=tf.keras.initializers.zeros())(conv3)\n",
        "    conv3 = LeakyReLU()(conv3)\n",
        "    pool3 = MaxPooling2D(pool_size=(2, 2))(conv3)\n",
        "    conv4 = Conv2D(size_filter_in*8, 3, activation = activation_layer, padding = 'same', kernel_initializer = tf.keras.initializers.HeNormal(),\n",
        "                                        bias_initializer=tf.keras.initializers.zeros())(pool3)\n",
        "    conv4 = LeakyReLU()(conv4)\n",
        "    conv4 = Conv2D(size_filter_in*8, 3, activation = activation_layer, padding = 'same', kernel_initializer = tf.keras.initializers.HeNormal(),\n",
        "                                        bias_initializer=tf.keras.initializers.zeros())(conv4)\n",
        "    conv4 = LeakyReLU()(conv4)\n",
        "    drop4 = Dropout(0.5)(conv4)\n",
        "    pool4 = MaxPooling2D(pool_size=(2, 2))(drop4)\n",
        "\n",
        "    conv5 = Conv2D(size_filter_in*16, 3, activation = activation_layer, padding = 'same', kernel_initializer = tf.keras.initializers.HeNormal(),\n",
        "                                        bias_initializer=tf.keras.initializers.zeros())(pool4)\n",
        "    conv5 = LeakyReLU()(conv5)\n",
        "    conv5 = Conv2D(size_filter_in*16, 3, activation = activation_layer, padding = 'same', kernel_initializer = tf.keras.initializers.HeNormal(),\n",
        "                                        bias_initializer=tf.keras.initializers.zeros())(conv5)\n",
        "    conv5 = LeakyReLU()(conv5)\n",
        "    drop5 = Dropout(0.5)(conv5)\n",
        "\n",
        "    up6 = Conv2D(size_filter_in*8, 2, activation = activation_layer, padding = 'same', kernel_initializer = tf.keras.initializers.HeNormal(),\n",
        "                                        bias_initializer=tf.keras.initializers.zeros())(UpSampling2D(size = (2,2))(drop5))\n",
        "    up6 = LeakyReLU()(up6)\n",
        "    merge6 = concatenate([drop4,up6], axis = 3)\n",
        "    conv6 = Conv2D(size_filter_in*8, 3, activation = activation_layer, padding = 'same', kernel_initializer = tf.keras.initializers.HeNormal(),\n",
        "                                        bias_initializer=tf.keras.initializers.zeros())(merge6)\n",
        "    conv6 = LeakyReLU()(conv6)\n",
        "    conv6 = Conv2D(size_filter_in*8, 3, activation = activation_layer, padding = 'same', kernel_initializer = tf.keras.initializers.HeNormal(),\n",
        "                                        bias_initializer=tf.keras.initializers.zeros())(conv6)\n",
        "    conv6 = LeakyReLU()(conv6)\n",
        "    up7 = Conv2D(size_filter_in*4, 2, activation = activation_layer, padding = 'same', kernel_initializer = tf.keras.initializers.HeNormal(),\n",
        "                                        bias_initializer=tf.keras.initializers.zeros())(UpSampling2D(size = (2,2))(conv6))\n",
        "    up7 = LeakyReLU()(up7)\n",
        "    merge7 = concatenate([conv3,up7], axis = 3)\n",
        "    conv7 = Conv2D(size_filter_in*4, 3, activation = activation_layer, padding = 'same', kernel_initializer = tf.keras.initializers.HeNormal(),\n",
        "                                        bias_initializer=tf.keras.initializers.zeros())(merge7)\n",
        "    conv7 = LeakyReLU()(conv7)\n",
        "    conv7 = Conv2D(size_filter_in*4, 3, activation = activation_layer, padding = 'same', kernel_initializer = tf.keras.initializers.HeNormal(),\n",
        "                                        bias_initializer=tf.keras.initializers.zeros())(conv7)\n",
        "    conv7 = LeakyReLU()(conv7)\n",
        "    up8 = Conv2D(size_filter_in*2, 2, activation = activation_layer, padding = 'same', kernel_initializer = tf.keras.initializers.HeNormal(),\n",
        "                                        bias_initializer=tf.keras.initializers.zeros())(UpSampling2D(size = (2,2))(conv7))\n",
        "    up8 = LeakyReLU()(up8)\n",
        "    merge8 = concatenate([conv2,up8], axis = 3)\n",
        "    conv8 = Conv2D(size_filter_in*2, 3, activation = activation_layer, padding = 'same', kernel_initializer = tf.keras.initializers.HeNormal(),\n",
        "                                        bias_initializer=tf.keras.initializers.zeros())(merge8)\n",
        "    conv8 = LeakyReLU()(conv8)\n",
        "    conv8 = Conv2D(size_filter_in*2, 3, activation = activation_layer, padding = 'same', kernel_initializer = tf.keras.initializers.HeNormal(),\n",
        "                                        bias_initializer=tf.keras.initializers.zeros())(conv8)\n",
        "    conv8 = LeakyReLU()(conv8)\n",
        "    \n",
        "    up9 = Conv2D(size_filter_in, 2, activation = activation_layer, padding = 'same', kernel_initializer = tf.keras.initializers.HeNormal(),\n",
        "                                        bias_initializer=tf.keras.initializers.zeros())(UpSampling2D(size = (2,2))(conv8))\n",
        "    up9 = LeakyReLU()(up9)\n",
        "    merge9 = concatenate([conv1,up9], axis = 3)\n",
        "    conv9 = Conv2D(size_filter_in, 3, activation = activation_layer, padding = 'same', kernel_initializer = tf.keras.initializers.HeNormal(),\n",
        "                                        bias_initializer=tf.keras.initializers.zeros())(merge9)\n",
        "    conv9 = LeakyReLU()(conv9)\n",
        "    conv9 = Conv2D(size_filter_in, 3, activation = activation_layer, padding = 'same', kernel_initializer = tf.keras.initializers.HeNormal(),\n",
        "                                        bias_initializer=tf.keras.initializers.zeros())(conv9)\n",
        "    conv9 = LeakyReLU()(conv9)\n",
        "    conv9 = Conv2D(2, 3, activation = activation_layer, padding = 'same', kernel_initializer = tf.keras.initializers.HeNormal(),\n",
        "                                        bias_initializer=tf.keras.initializers.zeros())(conv9)\n",
        "    conv9 = LeakyReLU()(conv9)\n",
        "    conv10 = Conv2D(1, 1, activation = 'tanh')(conv9)\n",
        "\n",
        "    model = Model(inputs,conv10)\n",
        "    model.compile(optimizer = keras.optimizers.Adam(learning_rate=5e-6), loss='mse', metrics=[tf.keras.metrics.RootMeanSquaredError('rmse')])\n",
        "\n",
        "    return model"
      ],
      "execution_count": null,
      "outputs": [
        {
          "output_type": "stream",
          "text": [
            "2.3.0\n"
          ],
          "name": "stdout"
        }
      ]
    },
    {
      "cell_type": "code",
      "metadata": {
        "id": "sVmDOiih6gGC"
      },
      "source": [
        "#Creating checkpoints\n",
        "checkpoint_cb = tf.keras.callbacks.ModelCheckpoint(\n",
        "    filepath='new_model_{epoch}.h5',\n",
        "    save_best_only = True,\n",
        "    verbose=1)\n",
        "early_stopping_cb = tf.keras.callbacks.EarlyStopping(patience =30,restore_best_weights=True)"
      ],
      "execution_count": null,
      "outputs": []
    },
    {
      "cell_type": "code",
      "metadata": {
        "id": "vC2z1DYlVaPP"
      },
      "source": [
        "# Define inputs and outputs\n",
        "X_in = X\n",
        "X_ou = y\n",
        "X_ou = X_in - X_ou\n",
        "X_in = scaled_in(X_in)\n",
        "X_ou = scaled_ou(X_ou)"
      ],
      "execution_count": null,
      "outputs": []
    },
    {
      "cell_type": "code",
      "metadata": {
        "id": "LTyJ-h_mV0kk"
      },
      "source": [
        "#Reshape the inputs and outputs for training\n",
        "X_in = X_in = X_in.reshape(X_in.shape[0],X_in.shape[1],X_in.shape[2],1)\n",
        "X_ou = X_ou.reshape(X_ou.shape[0],X_ou.shape[1],X_ou.shape[2],1)\n",
        "\n",
        "X_train, X_test, y_train, y_test = train_test_split(X_in, X_ou, test_size=0.1, random_state=42)"
      ],
      "execution_count": null,
      "outputs": []
    },
    {
      "cell_type": "code",
      "metadata": {
        "id": "jzjNQIGnW2-c",
        "outputId": "62e818f2-fb6a-4e4b-be28-0027f316da8b",
        "colab": {
          "base_uri": "https://localhost:8080/",
          "height": 1000
        }
      },
      "source": [
        "generator_nn=unet()\n",
        "generator_nn.summary()"
      ],
      "execution_count": null,
      "outputs": [
        {
          "output_type": "stream",
          "text": [
            "Model: \"functional_1\"\n",
            "__________________________________________________________________________________________________\n",
            "Layer (type)                    Output Shape         Param #     Connected to                     \n",
            "==================================================================================================\n",
            "input_1 (InputLayer)            [(None, 128, 128, 1) 0                                            \n",
            "__________________________________________________________________________________________________\n",
            "conv2d (Conv2D)                 (None, 128, 128, 16) 160         input_1[0][0]                    \n",
            "__________________________________________________________________________________________________\n",
            "leaky_re_lu (LeakyReLU)         (None, 128, 128, 16) 0           conv2d[0][0]                     \n",
            "__________________________________________________________________________________________________\n",
            "conv2d_1 (Conv2D)               (None, 128, 128, 16) 2320        leaky_re_lu[0][0]                \n",
            "__________________________________________________________________________________________________\n",
            "leaky_re_lu_1 (LeakyReLU)       (None, 128, 128, 16) 0           conv2d_1[0][0]                   \n",
            "__________________________________________________________________________________________________\n",
            "max_pooling2d (MaxPooling2D)    (None, 64, 64, 16)   0           leaky_re_lu_1[0][0]              \n",
            "__________________________________________________________________________________________________\n",
            "conv2d_2 (Conv2D)               (None, 64, 64, 32)   4640        max_pooling2d[0][0]              \n",
            "__________________________________________________________________________________________________\n",
            "leaky_re_lu_2 (LeakyReLU)       (None, 64, 64, 32)   0           conv2d_2[0][0]                   \n",
            "__________________________________________________________________________________________________\n",
            "conv2d_3 (Conv2D)               (None, 64, 64, 32)   9248        leaky_re_lu_2[0][0]              \n",
            "__________________________________________________________________________________________________\n",
            "leaky_re_lu_3 (LeakyReLU)       (None, 64, 64, 32)   0           conv2d_3[0][0]                   \n",
            "__________________________________________________________________________________________________\n",
            "max_pooling2d_1 (MaxPooling2D)  (None, 32, 32, 32)   0           leaky_re_lu_3[0][0]              \n",
            "__________________________________________________________________________________________________\n",
            "conv2d_4 (Conv2D)               (None, 32, 32, 64)   18496       max_pooling2d_1[0][0]            \n",
            "__________________________________________________________________________________________________\n",
            "leaky_re_lu_4 (LeakyReLU)       (None, 32, 32, 64)   0           conv2d_4[0][0]                   \n",
            "__________________________________________________________________________________________________\n",
            "conv2d_5 (Conv2D)               (None, 32, 32, 64)   36928       leaky_re_lu_4[0][0]              \n",
            "__________________________________________________________________________________________________\n",
            "leaky_re_lu_5 (LeakyReLU)       (None, 32, 32, 64)   0           conv2d_5[0][0]                   \n",
            "__________________________________________________________________________________________________\n",
            "max_pooling2d_2 (MaxPooling2D)  (None, 16, 16, 64)   0           leaky_re_lu_5[0][0]              \n",
            "__________________________________________________________________________________________________\n",
            "conv2d_6 (Conv2D)               (None, 16, 16, 128)  73856       max_pooling2d_2[0][0]            \n",
            "__________________________________________________________________________________________________\n",
            "leaky_re_lu_6 (LeakyReLU)       (None, 16, 16, 128)  0           conv2d_6[0][0]                   \n",
            "__________________________________________________________________________________________________\n",
            "conv2d_7 (Conv2D)               (None, 16, 16, 128)  147584      leaky_re_lu_6[0][0]              \n",
            "__________________________________________________________________________________________________\n",
            "leaky_re_lu_7 (LeakyReLU)       (None, 16, 16, 128)  0           conv2d_7[0][0]                   \n",
            "__________________________________________________________________________________________________\n",
            "dropout (Dropout)               (None, 16, 16, 128)  0           leaky_re_lu_7[0][0]              \n",
            "__________________________________________________________________________________________________\n",
            "max_pooling2d_3 (MaxPooling2D)  (None, 8, 8, 128)    0           dropout[0][0]                    \n",
            "__________________________________________________________________________________________________\n",
            "conv2d_8 (Conv2D)               (None, 8, 8, 256)    295168      max_pooling2d_3[0][0]            \n",
            "__________________________________________________________________________________________________\n",
            "leaky_re_lu_8 (LeakyReLU)       (None, 8, 8, 256)    0           conv2d_8[0][0]                   \n",
            "__________________________________________________________________________________________________\n",
            "conv2d_9 (Conv2D)               (None, 8, 8, 256)    590080      leaky_re_lu_8[0][0]              \n",
            "__________________________________________________________________________________________________\n",
            "leaky_re_lu_9 (LeakyReLU)       (None, 8, 8, 256)    0           conv2d_9[0][0]                   \n",
            "__________________________________________________________________________________________________\n",
            "dropout_1 (Dropout)             (None, 8, 8, 256)    0           leaky_re_lu_9[0][0]              \n",
            "__________________________________________________________________________________________________\n",
            "up_sampling2d (UpSampling2D)    (None, 16, 16, 256)  0           dropout_1[0][0]                  \n",
            "__________________________________________________________________________________________________\n",
            "conv2d_10 (Conv2D)              (None, 16, 16, 128)  131200      up_sampling2d[0][0]              \n",
            "__________________________________________________________________________________________________\n",
            "leaky_re_lu_10 (LeakyReLU)      (None, 16, 16, 128)  0           conv2d_10[0][0]                  \n",
            "__________________________________________________________________________________________________\n",
            "concatenate (Concatenate)       (None, 16, 16, 256)  0           dropout[0][0]                    \n",
            "                                                                 leaky_re_lu_10[0][0]             \n",
            "__________________________________________________________________________________________________\n",
            "conv2d_11 (Conv2D)              (None, 16, 16, 128)  295040      concatenate[0][0]                \n",
            "__________________________________________________________________________________________________\n",
            "leaky_re_lu_11 (LeakyReLU)      (None, 16, 16, 128)  0           conv2d_11[0][0]                  \n",
            "__________________________________________________________________________________________________\n",
            "conv2d_12 (Conv2D)              (None, 16, 16, 128)  147584      leaky_re_lu_11[0][0]             \n",
            "__________________________________________________________________________________________________\n",
            "leaky_re_lu_12 (LeakyReLU)      (None, 16, 16, 128)  0           conv2d_12[0][0]                  \n",
            "__________________________________________________________________________________________________\n",
            "up_sampling2d_1 (UpSampling2D)  (None, 32, 32, 128)  0           leaky_re_lu_12[0][0]             \n",
            "__________________________________________________________________________________________________\n",
            "conv2d_13 (Conv2D)              (None, 32, 32, 64)   32832       up_sampling2d_1[0][0]            \n",
            "__________________________________________________________________________________________________\n",
            "leaky_re_lu_13 (LeakyReLU)      (None, 32, 32, 64)   0           conv2d_13[0][0]                  \n",
            "__________________________________________________________________________________________________\n",
            "concatenate_1 (Concatenate)     (None, 32, 32, 128)  0           leaky_re_lu_5[0][0]              \n",
            "                                                                 leaky_re_lu_13[0][0]             \n",
            "__________________________________________________________________________________________________\n",
            "conv2d_14 (Conv2D)              (None, 32, 32, 64)   73792       concatenate_1[0][0]              \n",
            "__________________________________________________________________________________________________\n",
            "leaky_re_lu_14 (LeakyReLU)      (None, 32, 32, 64)   0           conv2d_14[0][0]                  \n",
            "__________________________________________________________________________________________________\n",
            "conv2d_15 (Conv2D)              (None, 32, 32, 64)   36928       leaky_re_lu_14[0][0]             \n",
            "__________________________________________________________________________________________________\n",
            "leaky_re_lu_15 (LeakyReLU)      (None, 32, 32, 64)   0           conv2d_15[0][0]                  \n",
            "__________________________________________________________________________________________________\n",
            "up_sampling2d_2 (UpSampling2D)  (None, 64, 64, 64)   0           leaky_re_lu_15[0][0]             \n",
            "__________________________________________________________________________________________________\n",
            "conv2d_16 (Conv2D)              (None, 64, 64, 32)   8224        up_sampling2d_2[0][0]            \n",
            "__________________________________________________________________________________________________\n",
            "leaky_re_lu_16 (LeakyReLU)      (None, 64, 64, 32)   0           conv2d_16[0][0]                  \n",
            "__________________________________________________________________________________________________\n",
            "concatenate_2 (Concatenate)     (None, 64, 64, 64)   0           leaky_re_lu_3[0][0]              \n",
            "                                                                 leaky_re_lu_16[0][0]             \n",
            "__________________________________________________________________________________________________\n",
            "conv2d_17 (Conv2D)              (None, 64, 64, 32)   18464       concatenate_2[0][0]              \n",
            "__________________________________________________________________________________________________\n",
            "leaky_re_lu_17 (LeakyReLU)      (None, 64, 64, 32)   0           conv2d_17[0][0]                  \n",
            "__________________________________________________________________________________________________\n",
            "conv2d_18 (Conv2D)              (None, 64, 64, 32)   9248        leaky_re_lu_17[0][0]             \n",
            "__________________________________________________________________________________________________\n",
            "leaky_re_lu_18 (LeakyReLU)      (None, 64, 64, 32)   0           conv2d_18[0][0]                  \n",
            "__________________________________________________________________________________________________\n",
            "up_sampling2d_3 (UpSampling2D)  (None, 128, 128, 32) 0           leaky_re_lu_18[0][0]             \n",
            "__________________________________________________________________________________________________\n",
            "conv2d_19 (Conv2D)              (None, 128, 128, 16) 2064        up_sampling2d_3[0][0]            \n",
            "__________________________________________________________________________________________________\n",
            "leaky_re_lu_19 (LeakyReLU)      (None, 128, 128, 16) 0           conv2d_19[0][0]                  \n",
            "__________________________________________________________________________________________________\n",
            "concatenate_3 (Concatenate)     (None, 128, 128, 32) 0           leaky_re_lu_1[0][0]              \n",
            "                                                                 leaky_re_lu_19[0][0]             \n",
            "__________________________________________________________________________________________________\n",
            "conv2d_20 (Conv2D)              (None, 128, 128, 16) 4624        concatenate_3[0][0]              \n",
            "__________________________________________________________________________________________________\n",
            "leaky_re_lu_20 (LeakyReLU)      (None, 128, 128, 16) 0           conv2d_20[0][0]                  \n",
            "__________________________________________________________________________________________________\n",
            "conv2d_21 (Conv2D)              (None, 128, 128, 16) 2320        leaky_re_lu_20[0][0]             \n",
            "__________________________________________________________________________________________________\n",
            "leaky_re_lu_21 (LeakyReLU)      (None, 128, 128, 16) 0           conv2d_21[0][0]                  \n",
            "__________________________________________________________________________________________________\n",
            "conv2d_22 (Conv2D)              (None, 128, 128, 2)  290         leaky_re_lu_21[0][0]             \n",
            "__________________________________________________________________________________________________\n",
            "leaky_re_lu_22 (LeakyReLU)      (None, 128, 128, 2)  0           conv2d_22[0][0]                  \n",
            "__________________________________________________________________________________________________\n",
            "conv2d_23 (Conv2D)              (None, 128, 128, 1)  3           leaky_re_lu_22[0][0]             \n",
            "==================================================================================================\n",
            "Total params: 1,941,093\n",
            "Trainable params: 1,941,093\n",
            "Non-trainable params: 0\n",
            "__________________________________________________________________________________________________\n"
          ],
          "name": "stdout"
        }
      ]
    },
    {
      "cell_type": "markdown",
      "metadata": {
        "id": "UzYcptaYQXsp"
      },
      "source": [
        "# New Section 4.47"
      ]
    },
    {
      "cell_type": "code",
      "metadata": {
        "id": "bNM4HOnyQXJP",
        "outputId": "d9c11cfc-b0fe-4005-9d4e-99fc3e2f6298",
        "colab": {
          "base_uri": "https://localhost:8080/",
          "height": 1000
        }
      },
      "source": [
        "history = generator_nn.fit(X_in, X_ou, epochs=100, \n",
        "                               batch_size=32, \n",
        "                               shuffle=True, \n",
        "                               callbacks=[checkpoint_cb,early_stopping_cb], \n",
        "                               verbose=1, \n",
        "                               validation_data=(X_test, y_test))"
      ],
      "execution_count": null,
      "outputs": [
        {
          "output_type": "stream",
          "text": [
            "(11618, 128, 128, 1)\n",
            "(11618, 128, 128, 1)\n",
            "Model: \"functional_7\"\n",
            "__________________________________________________________________________________________________\n",
            "Layer (type)                    Output Shape         Param #     Connected to                     \n",
            "==================================================================================================\n",
            "input_4 (InputLayer)            [(None, 128, 128, 1) 0                                            \n",
            "__________________________________________________________________________________________________\n",
            "conv2d_72 (Conv2D)              (None, 128, 128, 16) 160         input_4[0][0]                    \n",
            "__________________________________________________________________________________________________\n",
            "leaky_re_lu_69 (LeakyReLU)      (None, 128, 128, 16) 0           conv2d_72[0][0]                  \n",
            "__________________________________________________________________________________________________\n",
            "conv2d_73 (Conv2D)              (None, 128, 128, 16) 2320        leaky_re_lu_69[0][0]             \n",
            "__________________________________________________________________________________________________\n",
            "leaky_re_lu_70 (LeakyReLU)      (None, 128, 128, 16) 0           conv2d_73[0][0]                  \n",
            "__________________________________________________________________________________________________\n",
            "max_pooling2d_12 (MaxPooling2D) (None, 64, 64, 16)   0           leaky_re_lu_70[0][0]             \n",
            "__________________________________________________________________________________________________\n",
            "conv2d_74 (Conv2D)              (None, 64, 64, 32)   4640        max_pooling2d_12[0][0]           \n",
            "__________________________________________________________________________________________________\n",
            "leaky_re_lu_71 (LeakyReLU)      (None, 64, 64, 32)   0           conv2d_74[0][0]                  \n",
            "__________________________________________________________________________________________________\n",
            "conv2d_75 (Conv2D)              (None, 64, 64, 32)   9248        leaky_re_lu_71[0][0]             \n",
            "__________________________________________________________________________________________________\n",
            "leaky_re_lu_72 (LeakyReLU)      (None, 64, 64, 32)   0           conv2d_75[0][0]                  \n",
            "__________________________________________________________________________________________________\n",
            "max_pooling2d_13 (MaxPooling2D) (None, 32, 32, 32)   0           leaky_re_lu_72[0][0]             \n",
            "__________________________________________________________________________________________________\n",
            "conv2d_76 (Conv2D)              (None, 32, 32, 64)   18496       max_pooling2d_13[0][0]           \n",
            "__________________________________________________________________________________________________\n",
            "leaky_re_lu_73 (LeakyReLU)      (None, 32, 32, 64)   0           conv2d_76[0][0]                  \n",
            "__________________________________________________________________________________________________\n",
            "conv2d_77 (Conv2D)              (None, 32, 32, 64)   36928       leaky_re_lu_73[0][0]             \n",
            "__________________________________________________________________________________________________\n",
            "leaky_re_lu_74 (LeakyReLU)      (None, 32, 32, 64)   0           conv2d_77[0][0]                  \n",
            "__________________________________________________________________________________________________\n",
            "max_pooling2d_14 (MaxPooling2D) (None, 16, 16, 64)   0           leaky_re_lu_74[0][0]             \n",
            "__________________________________________________________________________________________________\n",
            "conv2d_78 (Conv2D)              (None, 16, 16, 128)  73856       max_pooling2d_14[0][0]           \n",
            "__________________________________________________________________________________________________\n",
            "leaky_re_lu_75 (LeakyReLU)      (None, 16, 16, 128)  0           conv2d_78[0][0]                  \n",
            "__________________________________________________________________________________________________\n",
            "conv2d_79 (Conv2D)              (None, 16, 16, 128)  147584      leaky_re_lu_75[0][0]             \n",
            "__________________________________________________________________________________________________\n",
            "leaky_re_lu_76 (LeakyReLU)      (None, 16, 16, 128)  0           conv2d_79[0][0]                  \n",
            "__________________________________________________________________________________________________\n",
            "dropout_6 (Dropout)             (None, 16, 16, 128)  0           leaky_re_lu_76[0][0]             \n",
            "__________________________________________________________________________________________________\n",
            "max_pooling2d_15 (MaxPooling2D) (None, 8, 8, 128)    0           dropout_6[0][0]                  \n",
            "__________________________________________________________________________________________________\n",
            "conv2d_80 (Conv2D)              (None, 8, 8, 256)    295168      max_pooling2d_15[0][0]           \n",
            "__________________________________________________________________________________________________\n",
            "leaky_re_lu_77 (LeakyReLU)      (None, 8, 8, 256)    0           conv2d_80[0][0]                  \n",
            "__________________________________________________________________________________________________\n",
            "conv2d_81 (Conv2D)              (None, 8, 8, 256)    590080      leaky_re_lu_77[0][0]             \n",
            "__________________________________________________________________________________________________\n",
            "leaky_re_lu_78 (LeakyReLU)      (None, 8, 8, 256)    0           conv2d_81[0][0]                  \n",
            "__________________________________________________________________________________________________\n",
            "dropout_7 (Dropout)             (None, 8, 8, 256)    0           leaky_re_lu_78[0][0]             \n",
            "__________________________________________________________________________________________________\n",
            "up_sampling2d_12 (UpSampling2D) (None, 16, 16, 256)  0           dropout_7[0][0]                  \n",
            "__________________________________________________________________________________________________\n",
            "conv2d_82 (Conv2D)              (None, 16, 16, 128)  131200      up_sampling2d_12[0][0]           \n",
            "__________________________________________________________________________________________________\n",
            "leaky_re_lu_79 (LeakyReLU)      (None, 16, 16, 128)  0           conv2d_82[0][0]                  \n",
            "__________________________________________________________________________________________________\n",
            "concatenate_12 (Concatenate)    (None, 16, 16, 256)  0           dropout_6[0][0]                  \n",
            "                                                                 leaky_re_lu_79[0][0]             \n",
            "__________________________________________________________________________________________________\n",
            "conv2d_83 (Conv2D)              (None, 16, 16, 128)  295040      concatenate_12[0][0]             \n",
            "__________________________________________________________________________________________________\n",
            "leaky_re_lu_80 (LeakyReLU)      (None, 16, 16, 128)  0           conv2d_83[0][0]                  \n",
            "__________________________________________________________________________________________________\n",
            "conv2d_84 (Conv2D)              (None, 16, 16, 128)  147584      leaky_re_lu_80[0][0]             \n",
            "__________________________________________________________________________________________________\n",
            "leaky_re_lu_81 (LeakyReLU)      (None, 16, 16, 128)  0           conv2d_84[0][0]                  \n",
            "__________________________________________________________________________________________________\n",
            "up_sampling2d_13 (UpSampling2D) (None, 32, 32, 128)  0           leaky_re_lu_81[0][0]             \n",
            "__________________________________________________________________________________________________\n",
            "conv2d_85 (Conv2D)              (None, 32, 32, 64)   32832       up_sampling2d_13[0][0]           \n",
            "__________________________________________________________________________________________________\n",
            "leaky_re_lu_82 (LeakyReLU)      (None, 32, 32, 64)   0           conv2d_85[0][0]                  \n",
            "__________________________________________________________________________________________________\n",
            "concatenate_13 (Concatenate)    (None, 32, 32, 128)  0           leaky_re_lu_74[0][0]             \n",
            "                                                                 leaky_re_lu_82[0][0]             \n",
            "__________________________________________________________________________________________________\n",
            "conv2d_86 (Conv2D)              (None, 32, 32, 64)   73792       concatenate_13[0][0]             \n",
            "__________________________________________________________________________________________________\n",
            "leaky_re_lu_83 (LeakyReLU)      (None, 32, 32, 64)   0           conv2d_86[0][0]                  \n",
            "__________________________________________________________________________________________________\n",
            "conv2d_87 (Conv2D)              (None, 32, 32, 64)   36928       leaky_re_lu_83[0][0]             \n",
            "__________________________________________________________________________________________________\n",
            "leaky_re_lu_84 (LeakyReLU)      (None, 32, 32, 64)   0           conv2d_87[0][0]                  \n",
            "__________________________________________________________________________________________________\n",
            "up_sampling2d_14 (UpSampling2D) (None, 64, 64, 64)   0           leaky_re_lu_84[0][0]             \n",
            "__________________________________________________________________________________________________\n",
            "conv2d_88 (Conv2D)              (None, 64, 64, 32)   8224        up_sampling2d_14[0][0]           \n",
            "__________________________________________________________________________________________________\n",
            "leaky_re_lu_85 (LeakyReLU)      (None, 64, 64, 32)   0           conv2d_88[0][0]                  \n",
            "__________________________________________________________________________________________________\n",
            "concatenate_14 (Concatenate)    (None, 64, 64, 64)   0           leaky_re_lu_72[0][0]             \n",
            "                                                                 leaky_re_lu_85[0][0]             \n",
            "__________________________________________________________________________________________________\n",
            "conv2d_89 (Conv2D)              (None, 64, 64, 32)   18464       concatenate_14[0][0]             \n",
            "__________________________________________________________________________________________________\n",
            "leaky_re_lu_86 (LeakyReLU)      (None, 64, 64, 32)   0           conv2d_89[0][0]                  \n",
            "__________________________________________________________________________________________________\n",
            "conv2d_90 (Conv2D)              (None, 64, 64, 32)   9248        leaky_re_lu_86[0][0]             \n",
            "__________________________________________________________________________________________________\n",
            "leaky_re_lu_87 (LeakyReLU)      (None, 64, 64, 32)   0           conv2d_90[0][0]                  \n",
            "__________________________________________________________________________________________________\n",
            "up_sampling2d_15 (UpSampling2D) (None, 128, 128, 32) 0           leaky_re_lu_87[0][0]             \n",
            "__________________________________________________________________________________________________\n",
            "conv2d_91 (Conv2D)              (None, 128, 128, 16) 2064        up_sampling2d_15[0][0]           \n",
            "__________________________________________________________________________________________________\n",
            "leaky_re_lu_88 (LeakyReLU)      (None, 128, 128, 16) 0           conv2d_91[0][0]                  \n",
            "__________________________________________________________________________________________________\n",
            "concatenate_15 (Concatenate)    (None, 128, 128, 32) 0           leaky_re_lu_70[0][0]             \n",
            "                                                                 leaky_re_lu_88[0][0]             \n",
            "__________________________________________________________________________________________________\n",
            "conv2d_92 (Conv2D)              (None, 128, 128, 16) 4624        concatenate_15[0][0]             \n",
            "__________________________________________________________________________________________________\n",
            "leaky_re_lu_89 (LeakyReLU)      (None, 128, 128, 16) 0           conv2d_92[0][0]                  \n",
            "__________________________________________________________________________________________________\n",
            "conv2d_93 (Conv2D)              (None, 128, 128, 16) 2320        leaky_re_lu_89[0][0]             \n",
            "__________________________________________________________________________________________________\n",
            "leaky_re_lu_90 (LeakyReLU)      (None, 128, 128, 16) 0           conv2d_93[0][0]                  \n",
            "__________________________________________________________________________________________________\n",
            "conv2d_94 (Conv2D)              (None, 128, 128, 2)  290         leaky_re_lu_90[0][0]             \n",
            "__________________________________________________________________________________________________\n",
            "leaky_re_lu_91 (LeakyReLU)      (None, 128, 128, 2)  0           conv2d_94[0][0]                  \n",
            "__________________________________________________________________________________________________\n",
            "conv2d_95 (Conv2D)              (None, 128, 128, 1)  3           leaky_re_lu_91[0][0]             \n",
            "==================================================================================================\n",
            "Total params: 1,941,093\n",
            "Trainable params: 1,941,093\n",
            "Non-trainable params: 0\n",
            "__________________________________________________________________________________________________\n",
            "Epoch 1/200\n",
            "363/364 [============================>.] - ETA: 0s - loss: 2.2788 - mae: 19.9672\n",
            "Epoch 00001: val_loss improved from inf to 1.68164, saving model to mymodel_1.h5\n",
            "364/364 [==============================] - 26s 70ms/step - loss: 2.2786 - mae: 19.9673 - val_loss: 1.6816 - val_mae: 19.9369\n",
            "Epoch 2/200\n",
            "363/364 [============================>.] - ETA: 0s - loss: 1.4581 - mae: 19.9182\n",
            "Epoch 00002: val_loss improved from 1.68164 to 1.37387, saving model to mymodel_2.h5\n",
            "364/364 [==============================] - 25s 70ms/step - loss: 1.4580 - mae: 19.9194 - val_loss: 1.3739 - val_mae: 19.9949\n",
            "Epoch 3/200\n",
            "363/364 [============================>.] - ETA: 0s - loss: 1.1284 - mae: 19.9189\n",
            "Epoch 00003: val_loss did not improve from 1.37387\n",
            "364/364 [==============================] - 25s 69ms/step - loss: 1.1284 - mae: 19.9189 - val_loss: 1.8360 - val_mae: 20.0682\n",
            "Epoch 4/200\n",
            "363/364 [============================>.] - ETA: 0s - loss: 0.9644 - mae: 19.9203\n",
            "Epoch 00004: val_loss did not improve from 1.37387\n",
            "364/364 [==============================] - 25s 69ms/step - loss: 0.9644 - mae: 19.9203 - val_loss: 1.5192 - val_mae: 20.0518\n",
            "Epoch 5/200\n",
            "363/364 [============================>.] - ETA: 0s - loss: 0.8896 - mae: 19.9225\n",
            "Epoch 00005: val_loss did not improve from 1.37387\n",
            "364/364 [==============================] - 25s 69ms/step - loss: 0.8896 - mae: 19.9219 - val_loss: 1.5152 - val_mae: 20.0570\n",
            "Epoch 6/200\n",
            "363/364 [============================>.] - ETA: 0s - loss: 0.8365 - mae: 19.9230\n",
            "Epoch 00006: val_loss did not improve from 1.37387\n",
            "364/364 [==============================] - 25s 70ms/step - loss: 0.8365 - mae: 19.9233 - val_loss: 1.3806 - val_mae: 20.0505\n",
            "Epoch 7/200\n",
            "363/364 [============================>.] - ETA: 0s - loss: 0.7941 - mae: 19.9251\n",
            "Epoch 00007: val_loss did not improve from 1.37387\n",
            "364/364 [==============================] - 25s 70ms/step - loss: 0.7941 - mae: 19.9244 - val_loss: 1.4021 - val_mae: 20.0561\n",
            "Epoch 8/200\n",
            "363/364 [============================>.] - ETA: 0s - loss: 0.7584 - mae: 19.9260\n",
            "Epoch 00008: val_loss improved from 1.37387 to 1.26565, saving model to mymodel_8.h5\n",
            "364/364 [==============================] - 25s 70ms/step - loss: 0.7583 - mae: 19.9260 - val_loss: 1.2656 - val_mae: 20.0484\n",
            "Epoch 9/200\n",
            "363/364 [============================>.] - ETA: 0s - loss: 0.7288 - mae: 19.9280\n",
            "Epoch 00009: val_loss improved from 1.26565 to 1.18391, saving model to mymodel_9.h5\n",
            "364/364 [==============================] - 26s 70ms/step - loss: 0.7288 - mae: 19.9274 - val_loss: 1.1839 - val_mae: 20.0446\n",
            "Epoch 10/200\n",
            "363/364 [============================>.] - ETA: 0s - loss: 0.7017 - mae: 19.9287\n",
            "Epoch 00010: val_loss improved from 1.18391 to 0.99769, saving model to mymodel_10.h5\n",
            "364/364 [==============================] - 25s 70ms/step - loss: 0.7016 - mae: 19.9291 - val_loss: 0.9977 - val_mae: 20.0297\n",
            "Epoch 11/200\n",
            "363/364 [============================>.] - ETA: 0s - loss: 0.6804 - mae: 19.9307\n",
            "Epoch 00011: val_loss improved from 0.99769 to 0.91945, saving model to mymodel_11.h5\n",
            "364/364 [==============================] - 25s 70ms/step - loss: 0.6803 - mae: 19.9308 - val_loss: 0.9194 - val_mae: 20.0240\n",
            "Epoch 12/200\n",
            "363/364 [============================>.] - ETA: 0s - loss: 0.6590 - mae: 19.9332\n",
            "Epoch 00012: val_loss did not improve from 0.91945\n",
            "364/364 [==============================] - 25s 70ms/step - loss: 0.6590 - mae: 19.9328 - val_loss: 1.0601 - val_mae: 20.0427\n",
            "Epoch 13/200\n",
            "363/364 [============================>.] - ETA: 0s - loss: 0.6402 - mae: 19.9356\n",
            "Epoch 00013: val_loss did not improve from 0.91945\n",
            "364/364 [==============================] - 25s 70ms/step - loss: 0.6402 - mae: 19.9355 - val_loss: 0.9466 - val_mae: 20.0342\n",
            "Epoch 14/200\n",
            "363/364 [============================>.] - ETA: 0s - loss: 0.6248 - mae: 19.9386\n",
            "Epoch 00014: val_loss did not improve from 0.91945\n",
            "364/364 [==============================] - 25s 70ms/step - loss: 0.6248 - mae: 19.9376 - val_loss: 0.9806 - val_mae: 20.0406\n",
            "Epoch 15/200\n",
            "363/364 [============================>.] - ETA: 0s - loss: 0.6109 - mae: 19.9399\n",
            "Epoch 00015: val_loss improved from 0.91945 to 0.86081, saving model to mymodel_15.h5\n",
            "364/364 [==============================] - 26s 70ms/step - loss: 0.6110 - mae: 19.9399 - val_loss: 0.8608 - val_mae: 20.0304\n",
            "Epoch 16/200\n",
            "363/364 [============================>.] - ETA: 0s - loss: 0.5984 - mae: 19.9419\n",
            "Epoch 00016: val_loss improved from 0.86081 to 0.84054, saving model to mymodel_16.h5\n",
            "364/364 [==============================] - 26s 70ms/step - loss: 0.5984 - mae: 19.9421 - val_loss: 0.8405 - val_mae: 20.0307\n",
            "Epoch 17/200\n",
            "363/364 [============================>.] - ETA: 0s - loss: 0.5876 - mae: 19.9437\n",
            "Epoch 00017: val_loss improved from 0.84054 to 0.83133, saving model to mymodel_17.h5\n",
            "364/364 [==============================] - 26s 71ms/step - loss: 0.5877 - mae: 19.9440 - val_loss: 0.8313 - val_mae: 20.0322\n",
            "Epoch 18/200\n",
            "363/364 [============================>.] - ETA: 0s - loss: 0.5776 - mae: 19.9465\n",
            "Epoch 00018: val_loss improved from 0.83133 to 0.68350, saving model to mymodel_18.h5\n",
            "364/364 [==============================] - 26s 71ms/step - loss: 0.5776 - mae: 19.9459 - val_loss: 0.6835 - val_mae: 20.0133\n",
            "Epoch 19/200\n",
            "363/364 [============================>.] - ETA: 0s - loss: 0.5693 - mae: 19.9475\n",
            "Epoch 00019: val_loss did not improve from 0.68350\n",
            "364/364 [==============================] - 25s 70ms/step - loss: 0.5693 - mae: 19.9476 - val_loss: 0.7372 - val_mae: 20.0252\n",
            "Epoch 20/200\n",
            "363/364 [============================>.] - ETA: 0s - loss: 0.5606 - mae: 19.9492\n",
            "Epoch 00020: val_loss did not improve from 0.68350\n",
            "364/364 [==============================] - 26s 70ms/step - loss: 0.5606 - mae: 19.9498 - val_loss: 0.7735 - val_mae: 20.0323\n",
            "Epoch 21/200\n",
            "363/364 [============================>.] - ETA: 0s - loss: 0.5527 - mae: 19.9511\n",
            "Epoch 00021: val_loss did not improve from 0.68350\n",
            "364/364 [==============================] - 25s 70ms/step - loss: 0.5527 - mae: 19.9512 - val_loss: 0.7218 - val_mae: 20.0278\n",
            "Epoch 22/200\n",
            "363/364 [============================>.] - ETA: 0s - loss: 0.5459 - mae: 19.9533\n",
            "Epoch 00022: val_loss did not improve from 0.68350\n",
            "364/364 [==============================] - 25s 70ms/step - loss: 0.5459 - mae: 19.9531 - val_loss: 0.7187 - val_mae: 20.0298\n",
            "Epoch 23/200\n",
            "363/364 [============================>.] - ETA: 0s - loss: 0.5398 - mae: 19.9554\n",
            "Epoch 00023: val_loss did not improve from 0.68350\n",
            "364/364 [==============================] - 26s 70ms/step - loss: 0.5398 - mae: 19.9547 - val_loss: 0.7922 - val_mae: 20.0406\n",
            "Epoch 24/200\n",
            "363/364 [============================>.] - ETA: 0s - loss: 0.5351 - mae: 19.9567\n",
            "Epoch 00024: val_loss improved from 0.68350 to 0.66954, saving model to mymodel_24.h5\n",
            "364/364 [==============================] - 26s 71ms/step - loss: 0.5351 - mae: 19.9564 - val_loss: 0.6695 - val_mae: 20.0265\n",
            "Epoch 25/200\n",
            "363/364 [============================>.] - ETA: 0s - loss: 0.5291 - mae: 19.9577\n",
            "Epoch 00025: val_loss did not improve from 0.66954\n",
            "364/364 [==============================] - 25s 70ms/step - loss: 0.5291 - mae: 19.9578 - val_loss: 0.7196 - val_mae: 20.0356\n",
            "Epoch 26/200\n",
            "363/364 [============================>.] - ETA: 0s - loss: 0.5252 - mae: 19.9592\n",
            "Epoch 00026: val_loss improved from 0.66954 to 0.64931, saving model to mymodel_26.h5\n",
            "364/364 [==============================] - 26s 70ms/step - loss: 0.5252 - mae: 19.9592 - val_loss: 0.6493 - val_mae: 20.0274\n",
            "Epoch 27/200\n",
            "363/364 [============================>.] - ETA: 0s - loss: 0.5207 - mae: 19.9601\n",
            "Epoch 00027: val_loss did not improve from 0.64931\n",
            "364/364 [==============================] - 25s 70ms/step - loss: 0.5206 - mae: 19.9605 - val_loss: 0.6810 - val_mae: 20.0334\n",
            "Epoch 28/200\n",
            "363/364 [============================>.] - ETA: 0s - loss: 0.5169 - mae: 19.9626\n",
            "Epoch 00028: val_loss did not improve from 0.64931\n",
            "364/364 [==============================] - 25s 70ms/step - loss: 0.5170 - mae: 19.9617 - val_loss: 0.6684 - val_mae: 20.0334\n",
            "Epoch 29/200\n",
            "363/364 [============================>.] - ETA: 0s - loss: 0.5135 - mae: 19.9630\n",
            "Epoch 00029: val_loss did not improve from 0.64931\n",
            "364/364 [==============================] - 25s 69ms/step - loss: 0.5136 - mae: 19.9629 - val_loss: 0.6572 - val_mae: 20.0333\n",
            "Epoch 30/200\n",
            "363/364 [============================>.] - ETA: 0s - loss: 0.5098 - mae: 19.9643\n",
            "Epoch 00030: val_loss did not improve from 0.64931\n",
            "364/364 [==============================] - 25s 69ms/step - loss: 0.5098 - mae: 19.9640 - val_loss: 0.6782 - val_mae: 20.0372\n",
            "Epoch 31/200\n",
            "363/364 [============================>.] - ETA: 0s - loss: 0.5073 - mae: 19.9649\n",
            "Epoch 00031: val_loss improved from 0.64931 to 0.62276, saving model to mymodel_31.h5\n",
            "364/364 [==============================] - 25s 70ms/step - loss: 0.5073 - mae: 19.9653 - val_loss: 0.6228 - val_mae: 20.0306\n",
            "Epoch 32/200\n",
            "363/364 [============================>.] - ETA: 0s - loss: 0.5046 - mae: 19.9663\n",
            "Epoch 00032: val_loss improved from 0.62276 to 0.62075, saving model to mymodel_32.h5\n",
            "364/364 [==============================] - 25s 70ms/step - loss: 0.5045 - mae: 19.9661 - val_loss: 0.6207 - val_mae: 20.0316\n",
            "Epoch 33/200\n",
            "363/364 [============================>.] - ETA: 0s - loss: 0.5016 - mae: 19.9679\n",
            "Epoch 00033: val_loss improved from 0.62075 to 0.59907, saving model to mymodel_33.h5\n",
            "364/364 [==============================] - 25s 70ms/step - loss: 0.5016 - mae: 19.9671 - val_loss: 0.5991 - val_mae: 20.0292\n",
            "Epoch 34/200\n",
            "363/364 [============================>.] - ETA: 0s - loss: 0.4997 - mae: 19.9679\n",
            "Epoch 00034: val_loss did not improve from 0.59907\n",
            "364/364 [==============================] - 25s 69ms/step - loss: 0.4997 - mae: 19.9683 - val_loss: 0.6322 - val_mae: 20.0354\n",
            "Epoch 35/200\n",
            "363/364 [============================>.] - ETA: 0s - loss: 0.4974 - mae: 19.9688\n",
            "Epoch 00035: val_loss did not improve from 0.59907\n",
            "364/364 [==============================] - 25s 69ms/step - loss: 0.4974 - mae: 19.9689 - val_loss: 0.6276 - val_mae: 20.0360\n",
            "Epoch 36/200\n",
            "363/364 [============================>.] - ETA: 0s - loss: 0.4957 - mae: 19.9687\n",
            "Epoch 00036: val_loss did not improve from 0.59907\n",
            "364/364 [==============================] - 25s 69ms/step - loss: 0.4957 - mae: 19.9699 - val_loss: 0.6372 - val_mae: 20.0379\n",
            "Epoch 37/200\n",
            "363/364 [============================>.] - ETA: 0s - loss: 0.4937 - mae: 19.9701\n",
            "Epoch 00037: val_loss did not improve from 0.59907\n",
            "364/364 [==============================] - 25s 69ms/step - loss: 0.4937 - mae: 19.9705 - val_loss: 0.6075 - val_mae: 20.0345\n",
            "Epoch 38/200\n",
            "363/364 [============================>.] - ETA: 0s - loss: 0.4919 - mae: 19.9714\n",
            "Epoch 00038: val_loss did not improve from 0.59907\n",
            "364/364 [==============================] - 25s 69ms/step - loss: 0.4919 - mae: 19.9712 - val_loss: 0.6583 - val_mae: 20.0423\n",
            "Epoch 39/200\n",
            "363/364 [============================>.] - ETA: 0s - loss: 0.4905 - mae: 19.9726\n",
            "Epoch 00039: val_loss improved from 0.59907 to 0.59686, saving model to mymodel_39.h5\n",
            "364/364 [==============================] - 25s 70ms/step - loss: 0.4905 - mae: 19.9720 - val_loss: 0.5969 - val_mae: 20.0346\n",
            "Epoch 40/200\n",
            "363/364 [============================>.] - ETA: 0s - loss: 0.4882 - mae: 19.9723\n",
            "Epoch 00040: val_loss improved from 0.59686 to 0.55764, saving model to mymodel_40.h5\n",
            "364/364 [==============================] - 25s 70ms/step - loss: 0.4881 - mae: 19.9726 - val_loss: 0.5576 - val_mae: 20.0282\n",
            "Epoch 41/200\n",
            "363/364 [============================>.] - ETA: 0s - loss: 0.4870 - mae: 19.9735\n",
            "Epoch 00041: val_loss did not improve from 0.55764\n",
            "364/364 [==============================] - 25s 69ms/step - loss: 0.4870 - mae: 19.9730 - val_loss: 0.5599 - val_mae: 20.0295\n",
            "Epoch 42/200\n",
            "363/364 [============================>.] - ETA: 0s - loss: 0.4854 - mae: 19.9734\n",
            "Epoch 00042: val_loss did not improve from 0.55764\n",
            "364/364 [==============================] - 25s 69ms/step - loss: 0.4854 - mae: 19.9738 - val_loss: 0.6023 - val_mae: 20.0375\n",
            "Epoch 43/200\n",
            "363/364 [============================>.] - ETA: 0s - loss: 0.4844 - mae: 19.9730\n",
            "Epoch 00043: val_loss did not improve from 0.55764\n",
            "364/364 [==============================] - 25s 70ms/step - loss: 0.4844 - mae: 19.9743 - val_loss: 0.5733 - val_mae: 20.0335\n",
            "Epoch 44/200\n",
            "363/364 [============================>.] - ETA: 0s - loss: 0.4832 - mae: 19.9754\n",
            "Epoch 00044: val_loss did not improve from 0.55764\n",
            "364/364 [==============================] - 25s 69ms/step - loss: 0.4832 - mae: 19.9748 - val_loss: 0.5674 - val_mae: 20.0330\n",
            "Epoch 45/200\n",
            "363/364 [============================>.] - ETA: 0s - loss: 0.4819 - mae: 19.9755\n",
            "Epoch 00045: val_loss did not improve from 0.55764\n",
            "364/364 [==============================] - 25s 69ms/step - loss: 0.4819 - mae: 19.9754 - val_loss: 0.5799 - val_mae: 20.0357\n",
            "Epoch 46/200\n",
            "363/364 [============================>.] - ETA: 0s - loss: 0.4808 - mae: 19.9748\n",
            "Epoch 00046: val_loss did not improve from 0.55764\n",
            "364/364 [==============================] - 25s 69ms/step - loss: 0.4808 - mae: 19.9757 - val_loss: 0.5642 - val_mae: 20.0338\n",
            "Epoch 47/200\n",
            "363/364 [============================>.] - ETA: 0s - loss: 0.4792 - mae: 19.9766\n",
            "Epoch 00047: val_loss did not improve from 0.55764\n",
            "364/364 [==============================] - 25s 69ms/step - loss: 0.4793 - mae: 19.9762 - val_loss: 0.6975 - val_mae: 20.0514\n",
            "Epoch 48/200\n",
            "363/364 [============================>.] - ETA: 0s - loss: 0.4799 - mae: 19.9773\n",
            "Epoch 00048: val_loss improved from 0.55764 to 0.54896, saving model to mymodel_48.h5\n",
            "364/364 [==============================] - 25s 70ms/step - loss: 0.4799 - mae: 19.9766 - val_loss: 0.5490 - val_mae: 20.0318\n",
            "Epoch 49/200\n",
            "363/364 [============================>.] - ETA: 0s - loss: 0.4779 - mae: 19.9769\n",
            "Epoch 00049: val_loss did not improve from 0.54896\n",
            "364/364 [==============================] - 25s 69ms/step - loss: 0.4779 - mae: 19.9769 - val_loss: 0.5779 - val_mae: 20.0375\n",
            "Epoch 50/200\n",
            "363/364 [============================>.] - ETA: 0s - loss: 0.4764 - mae: 19.9769\n",
            "Epoch 00050: val_loss did not improve from 0.54896\n",
            "364/364 [==============================] - 25s 69ms/step - loss: 0.4764 - mae: 19.9774 - val_loss: 0.5617 - val_mae: 20.0350\n",
            "Epoch 51/200\n",
            "363/364 [============================>.] - ETA: 0s - loss: 0.4760 - mae: 19.9777\n",
            "Epoch 00051: val_loss did not improve from 0.54896\n",
            "364/364 [==============================] - 25s 69ms/step - loss: 0.4760 - mae: 19.9777 - val_loss: 0.5699 - val_mae: 20.0372\n",
            "Epoch 52/200\n",
            "363/364 [============================>.] - ETA: 0s - loss: 0.4748 - mae: 19.9780\n",
            "Epoch 00052: val_loss did not improve from 0.54896\n",
            "364/364 [==============================] - 25s 69ms/step - loss: 0.4748 - mae: 19.9780 - val_loss: 0.5654 - val_mae: 20.0369\n",
            "Epoch 53/200\n",
            "363/364 [============================>.] - ETA: 0s - loss: 0.4739 - mae: 19.9788\n",
            "Epoch 00053: val_loss did not improve from 0.54896\n",
            "364/364 [==============================] - 25s 69ms/step - loss: 0.4739 - mae: 19.9785 - val_loss: 0.5739 - val_mae: 20.0386\n",
            "Epoch 54/200\n",
            "363/364 [============================>.] - ETA: 0s - loss: 0.4730 - mae: 19.9783\n",
            "Epoch 00054: val_loss did not improve from 0.54896\n",
            "364/364 [==============================] - 25s 69ms/step - loss: 0.4730 - mae: 19.9788 - val_loss: 0.5782 - val_mae: 20.0395\n",
            "Epoch 55/200\n",
            "363/364 [============================>.] - ETA: 0s - loss: 0.4723 - mae: 19.9795\n",
            "Epoch 00055: val_loss did not improve from 0.54896\n",
            "364/364 [==============================] - 25s 70ms/step - loss: 0.4723 - mae: 19.9790 - val_loss: 0.5572 - val_mae: 20.0366\n",
            "Epoch 56/200\n",
            "363/364 [============================>.] - ETA: 0s - loss: 0.4717 - mae: 19.9805\n",
            "Epoch 00056: val_loss improved from 0.54896 to 0.52663, saving model to mymodel_56.h5\n",
            "364/364 [==============================] - 25s 70ms/step - loss: 0.4718 - mae: 19.9795 - val_loss: 0.5266 - val_mae: 20.0306\n",
            "Epoch 57/200\n",
            "363/364 [============================>.] - ETA: 0s - loss: 0.4714 - mae: 19.9786\n",
            "Epoch 00057: val_loss did not improve from 0.52663\n",
            "364/364 [==============================] - 25s 69ms/step - loss: 0.4714 - mae: 19.9794 - val_loss: 0.5543 - val_mae: 20.0368\n",
            "Epoch 58/200\n",
            "363/364 [============================>.] - ETA: 0s - loss: 0.4699 - mae: 19.9800\n",
            "Epoch 00058: val_loss did not improve from 0.52663\n",
            "364/364 [==============================] - 25s 69ms/step - loss: 0.4698 - mae: 19.9799 - val_loss: 0.5443 - val_mae: 20.0350\n",
            "Epoch 59/200\n",
            "363/364 [============================>.] - ETA: 0s - loss: 0.4695 - mae: 19.9789\n",
            "Epoch 00059: val_loss did not improve from 0.52663\n",
            "364/364 [==============================] - 25s 69ms/step - loss: 0.4695 - mae: 19.9801 - val_loss: 0.5276 - val_mae: 20.0321\n",
            "Epoch 60/200\n",
            "363/364 [============================>.] - ETA: 0s - loss: 0.4689 - mae: 19.9799\n",
            "Epoch 00060: val_loss did not improve from 0.52663\n",
            "364/364 [==============================] - 25s 69ms/step - loss: 0.4689 - mae: 19.9803 - val_loss: 0.5511 - val_mae: 20.0375\n",
            "Epoch 61/200\n",
            "363/364 [============================>.] - ETA: 0s - loss: 0.4685 - mae: 19.9796\n",
            "Epoch 00061: val_loss improved from 0.52663 to 0.51602, saving model to mymodel_61.h5\n",
            "364/364 [==============================] - 25s 70ms/step - loss: 0.4685 - mae: 19.9806 - val_loss: 0.5160 - val_mae: 20.0302\n",
            "Epoch 62/200\n",
            "363/364 [============================>.] - ETA: 0s - loss: 0.4679 - mae: 19.9810\n",
            "Epoch 00062: val_loss did not improve from 0.51602\n",
            "364/364 [==============================] - 25s 69ms/step - loss: 0.4679 - mae: 19.9809 - val_loss: 0.5325 - val_mae: 20.0341\n",
            "Epoch 63/200\n",
            "363/364 [============================>.] - ETA: 0s - loss: 0.4673 - mae: 19.9816\n",
            "Epoch 00063: val_loss did not improve from 0.51602\n",
            "364/364 [==============================] - 25s 69ms/step - loss: 0.4673 - mae: 19.9809 - val_loss: 0.5282 - val_mae: 20.0337\n",
            "Epoch 64/200\n",
            "363/364 [============================>.] - ETA: 0s - loss: 0.4667 - mae: 19.9814\n",
            "Epoch 00064: val_loss did not improve from 0.51602\n",
            "364/364 [==============================] - 25s 69ms/step - loss: 0.4667 - mae: 19.9813 - val_loss: 0.5321 - val_mae: 20.0345\n",
            "Epoch 65/200\n",
            "363/364 [============================>.] - ETA: 0s - loss: 0.4662 - mae: 19.9809\n",
            "Epoch 00065: val_loss did not improve from 0.51602\n",
            "364/364 [==============================] - 25s 69ms/step - loss: 0.4662 - mae: 19.9814 - val_loss: 0.5410 - val_mae: 20.0367\n",
            "Epoch 66/200\n",
            "363/364 [============================>.] - ETA: 0s - loss: 0.4659 - mae: 19.9818\n",
            "Epoch 00066: val_loss improved from 0.51602 to 0.51332, saving model to mymodel_66.h5\n",
            "364/364 [==============================] - 25s 70ms/step - loss: 0.4659 - mae: 19.9816 - val_loss: 0.5133 - val_mae: 20.0310\n",
            "Epoch 67/200\n",
            "363/364 [============================>.] - ETA: 0s - loss: 0.4651 - mae: 19.9811\n",
            "Epoch 00067: val_loss did not improve from 0.51332\n",
            "364/364 [==============================] - 25s 70ms/step - loss: 0.4651 - mae: 19.9819 - val_loss: 0.5568 - val_mae: 20.0399\n",
            "Epoch 68/200\n",
            "363/364 [============================>.] - ETA: 0s - loss: 0.4646 - mae: 19.9821\n",
            "Epoch 00068: val_loss improved from 0.51332 to 0.50655, saving model to mymodel_68.h5\n",
            "364/364 [==============================] - 25s 70ms/step - loss: 0.4647 - mae: 19.9821 - val_loss: 0.5066 - val_mae: 20.0300\n",
            "Epoch 69/200\n",
            "363/364 [============================>.] - ETA: 0s - loss: 0.4645 - mae: 19.9822\n",
            "Epoch 00069: val_loss did not improve from 0.50655\n",
            "364/364 [==============================] - 25s 69ms/step - loss: 0.4645 - mae: 19.9821 - val_loss: 0.5175 - val_mae: 20.0331\n",
            "Epoch 70/200\n",
            "363/364 [============================>.] - ETA: 0s - loss: 0.4637 - mae: 19.9824\n",
            "Epoch 00070: val_loss did not improve from 0.50655\n",
            "364/364 [==============================] - 25s 69ms/step - loss: 0.4636 - mae: 19.9826 - val_loss: 0.5457 - val_mae: 20.0389\n",
            "Epoch 71/200\n",
            "363/364 [============================>.] - ETA: 0s - loss: 0.4634 - mae: 19.9826\n",
            "Epoch 00071: val_loss did not improve from 0.50655\n",
            "364/364 [==============================] - 25s 69ms/step - loss: 0.4634 - mae: 19.9827 - val_loss: 0.5179 - val_mae: 20.0334\n",
            "Epoch 72/200\n",
            "363/364 [============================>.] - ETA: 0s - loss: 0.4625 - mae: 19.9827\n",
            "Epoch 00072: val_loss did not improve from 0.50655\n",
            "364/364 [==============================] - 25s 70ms/step - loss: 0.4626 - mae: 19.9827 - val_loss: 0.5426 - val_mae: 20.0390\n",
            "Epoch 73/200\n",
            "363/364 [============================>.] - ETA: 0s - loss: 0.4626 - mae: 19.9823\n",
            "Epoch 00073: val_loss did not improve from 0.50655\n",
            "364/364 [==============================] - 25s 69ms/step - loss: 0.4626 - mae: 19.9830 - val_loss: 0.5412 - val_mae: 20.0388\n",
            "Epoch 74/200\n",
            "363/364 [============================>.] - ETA: 0s - loss: 0.4617 - mae: 19.9839\n",
            "Epoch 00074: val_loss did not improve from 0.50655\n",
            "364/364 [==============================] - 25s 69ms/step - loss: 0.4617 - mae: 19.9831 - val_loss: 0.5223 - val_mae: 20.0354\n",
            "Epoch 75/200\n",
            "363/364 [============================>.] - ETA: 0s - loss: 0.4618 - mae: 19.9827\n",
            "Epoch 00075: val_loss did not improve from 0.50655\n",
            "364/364 [==============================] - 25s 69ms/step - loss: 0.4618 - mae: 19.9834 - val_loss: 0.5345 - val_mae: 20.0380\n",
            "Epoch 76/200\n",
            "363/364 [============================>.] - ETA: 0s - loss: 0.4611 - mae: 19.9836\n",
            "Epoch 00076: val_loss did not improve from 0.50655\n",
            "364/364 [==============================] - 25s 69ms/step - loss: 0.4611 - mae: 19.9835 - val_loss: 0.5633 - val_mae: 20.0429\n",
            "Epoch 77/200\n",
            "363/364 [============================>.] - ETA: 0s - loss: 0.4614 - mae: 19.9834\n",
            "Epoch 00077: val_loss did not improve from 0.50655\n",
            "364/364 [==============================] - 25s 69ms/step - loss: 0.4614 - mae: 19.9838 - val_loss: 0.5297 - val_mae: 20.0376\n",
            "Epoch 78/200\n",
            "363/364 [============================>.] - ETA: 0s - loss: 0.4604 - mae: 19.9841\n",
            "Epoch 00078: val_loss did not improve from 0.50655\n",
            "364/364 [==============================] - 25s 69ms/step - loss: 0.4605 - mae: 19.9838 - val_loss: 0.5354 - val_mae: 20.0388\n",
            "Epoch 79/200\n",
            "363/364 [============================>.] - ETA: 0s - loss: 0.4602 - mae: 19.9834\n",
            "Epoch 00079: val_loss improved from 0.50655 to 0.50035, saving model to mymodel_79.h5\n",
            "364/364 [==============================] - 25s 70ms/step - loss: 0.4602 - mae: 19.9839 - val_loss: 0.5003 - val_mae: 20.0312\n",
            "Epoch 80/200\n",
            "363/364 [============================>.] - ETA: 0s - loss: 0.4603 - mae: 19.9838\n",
            "Epoch 00080: val_loss did not improve from 0.50035\n",
            "364/364 [==============================] - 25s 70ms/step - loss: 0.4603 - mae: 19.9840 - val_loss: 0.5034 - val_mae: 20.0319\n",
            "Epoch 81/200\n",
            "363/364 [============================>.] - ETA: 0s - loss: 0.4598 - mae: 19.9832\n",
            "Epoch 00081: val_loss did not improve from 0.50035\n",
            "364/364 [==============================] - 25s 69ms/step - loss: 0.4598 - mae: 19.9841 - val_loss: 0.5312 - val_mae: 20.0385\n",
            "Epoch 82/200\n",
            "363/364 [============================>.] - ETA: 0s - loss: 0.4591 - mae: 19.9832\n",
            "Epoch 00082: val_loss did not improve from 0.50035\n",
            "364/364 [==============================] - 25s 70ms/step - loss: 0.4591 - mae: 19.9844 - val_loss: 0.5257 - val_mae: 20.0374\n",
            "Epoch 83/200\n",
            "363/364 [============================>.] - ETA: 0s - loss: 0.4591 - mae: 19.9837\n",
            "Epoch 00083: val_loss did not improve from 0.50035\n",
            "364/364 [==============================] - 25s 69ms/step - loss: 0.4590 - mae: 19.9843 - val_loss: 0.5011 - val_mae: 20.0321\n",
            "Epoch 84/200\n",
            "363/364 [============================>.] - ETA: 0s - loss: 0.4585 - mae: 19.9851\n",
            "Epoch 00084: val_loss did not improve from 0.50035\n",
            "364/364 [==============================] - 25s 69ms/step - loss: 0.4585 - mae: 19.9845 - val_loss: 0.5154 - val_mae: 20.0359\n",
            "Epoch 85/200\n",
            "363/364 [============================>.] - ETA: 0s - loss: 0.4586 - mae: 19.9845\n",
            "Epoch 00085: val_loss improved from 0.50035 to 0.49725, saving model to mymodel_85.h5\n",
            "364/364 [==============================] - 25s 70ms/step - loss: 0.4586 - mae: 19.9847 - val_loss: 0.4973 - val_mae: 20.0314\n",
            "Epoch 86/200\n",
            "363/364 [============================>.] - ETA: 0s - loss: 0.4580 - mae: 19.9854\n",
            "Epoch 00086: val_loss did not improve from 0.49725\n",
            "364/364 [==============================] - 25s 70ms/step - loss: 0.4580 - mae: 19.9849 - val_loss: 0.4985 - val_mae: 20.0319\n",
            "Epoch 87/200\n",
            "363/364 [============================>.] - ETA: 0s - loss: 0.4582 - mae: 19.9848\n",
            "Epoch 00087: val_loss did not improve from 0.49725\n",
            "364/364 [==============================] - 25s 70ms/step - loss: 0.4582 - mae: 19.9848 - val_loss: 0.5009 - val_mae: 20.0328\n",
            "Epoch 88/200\n",
            "363/364 [============================>.] - ETA: 0s - loss: 0.4575 - mae: 19.9862\n",
            "Epoch 00088: val_loss did not improve from 0.49725\n",
            "364/364 [==============================] - 25s 70ms/step - loss: 0.4575 - mae: 19.9851 - val_loss: 0.5033 - val_mae: 20.0333\n",
            "Epoch 89/200\n",
            "363/364 [============================>.] - ETA: 0s - loss: 0.4576 - mae: 19.9856\n",
            "Epoch 00089: val_loss did not improve from 0.49725\n",
            "364/364 [==============================] - 25s 70ms/step - loss: 0.4576 - mae: 19.9849 - val_loss: 0.5202 - val_mae: 20.0377\n",
            "Epoch 90/200\n",
            "363/364 [============================>.] - ETA: 0s - loss: 0.4571 - mae: 19.9840\n",
            "Epoch 00090: val_loss did not improve from 0.49725\n",
            "364/364 [==============================] - 25s 70ms/step - loss: 0.4571 - mae: 19.9854 - val_loss: 0.5199 - val_mae: 20.0376\n",
            "Epoch 91/200\n",
            "363/364 [============================>.] - ETA: 0s - loss: 0.4572 - mae: 19.9843\n",
            "Epoch 00091: val_loss did not improve from 0.49725\n",
            "364/364 [==============================] - 25s 70ms/step - loss: 0.4571 - mae: 19.9854 - val_loss: 0.5339 - val_mae: 20.0402\n",
            "Epoch 92/200\n",
            "363/364 [============================>.] - ETA: 0s - loss: 0.4562 - mae: 19.9855\n",
            "Epoch 00092: val_loss did not improve from 0.49725\n",
            "364/364 [==============================] - 25s 70ms/step - loss: 0.4562 - mae: 19.9852 - val_loss: 0.4975 - val_mae: 20.0328\n",
            "Epoch 93/200\n",
            "363/364 [============================>.] - ETA: 0s - loss: 0.4563 - mae: 19.9851\n",
            "Epoch 00093: val_loss improved from 0.49725 to 0.49026, saving model to mymodel_93.h5\n",
            "364/364 [==============================] - 26s 70ms/step - loss: 0.4563 - mae: 19.9857 - val_loss: 0.4903 - val_mae: 20.0303\n",
            "Epoch 94/200\n",
            "363/364 [============================>.] - ETA: 0s - loss: 0.4569 - mae: 19.9832\n",
            "Epoch 00094: val_loss did not improve from 0.49026\n",
            "364/364 [==============================] - 25s 70ms/step - loss: 0.4569 - mae: 19.9854 - val_loss: 0.4916 - val_mae: 20.0309\n",
            "Epoch 95/200\n",
            "363/364 [============================>.] - ETA: 0s - loss: 0.4556 - mae: 19.9860\n",
            "Epoch 00095: val_loss did not improve from 0.49026\n",
            "364/364 [==============================] - 25s 70ms/step - loss: 0.4556 - mae: 19.9856 - val_loss: 0.5415 - val_mae: 20.0422\n",
            "Epoch 96/200\n",
            "363/364 [============================>.] - ETA: 0s - loss: 0.4559 - mae: 19.9857\n",
            "Epoch 00096: val_loss did not improve from 0.49026\n",
            "364/364 [==============================] - 25s 70ms/step - loss: 0.4559 - mae: 19.9857 - val_loss: 0.5163 - val_mae: 20.0377\n",
            "Epoch 97/200\n",
            "363/364 [============================>.] - ETA: 0s - loss: 0.4554 - mae: 19.9871\n",
            "Epoch 00097: val_loss did not improve from 0.49026\n",
            "364/364 [==============================] - 25s 70ms/step - loss: 0.4555 - mae: 19.9859 - val_loss: 0.5165 - val_mae: 20.0376\n",
            "Epoch 98/200\n",
            "363/364 [============================>.] - ETA: 0s - loss: 0.4554 - mae: 19.9860\n",
            "Epoch 00098: val_loss did not improve from 0.49026\n",
            "364/364 [==============================] - 25s 70ms/step - loss: 0.4555 - mae: 19.9859 - val_loss: 0.5371 - val_mae: 20.0419\n",
            "Epoch 99/200\n",
            "363/364 [============================>.] - ETA: 0s - loss: 0.4550 - mae: 19.9865\n",
            "Epoch 00099: val_loss did not improve from 0.49026\n",
            "364/364 [==============================] - 25s 70ms/step - loss: 0.4550 - mae: 19.9860 - val_loss: 0.5275 - val_mae: 20.0400\n",
            "Epoch 100/200\n",
            "363/364 [============================>.] - ETA: 0s - loss: 0.4549 - mae: 19.9861\n",
            "Epoch 00100: val_loss did not improve from 0.49026\n",
            "364/364 [==============================] - 25s 70ms/step - loss: 0.4549 - mae: 19.9860 - val_loss: 0.5195 - val_mae: 20.0388\n",
            "Epoch 101/200\n",
            "363/364 [============================>.] - ETA: 0s - loss: 0.4547 - mae: 19.9857\n",
            "Epoch 00101: val_loss did not improve from 0.49026\n",
            "364/364 [==============================] - 25s 70ms/step - loss: 0.4547 - mae: 19.9861 - val_loss: 0.5280 - val_mae: 20.0402\n",
            "Epoch 102/200\n",
            "363/364 [============================>.] - ETA: 0s - loss: 0.4548 - mae: 19.9857\n",
            "Epoch 00102: val_loss did not improve from 0.49026\n",
            "364/364 [==============================] - 25s 70ms/step - loss: 0.4548 - mae: 19.9862 - val_loss: 0.5064 - val_mae: 20.0361\n",
            "Epoch 103/200\n",
            "363/364 [============================>.] - ETA: 0s - loss: 0.4544 - mae: 19.9872\n",
            "Epoch 00103: val_loss did not improve from 0.49026\n",
            "364/364 [==============================] - 25s 70ms/step - loss: 0.4544 - mae: 19.9864 - val_loss: 0.5264 - val_mae: 20.0402\n",
            "Epoch 104/200\n",
            "363/364 [============================>.] - ETA: 0s - loss: 0.4536 - mae: 19.9854\n",
            "Epoch 00104: val_loss did not improve from 0.49026\n",
            "364/364 [==============================] - 25s 70ms/step - loss: 0.4536 - mae: 19.9864 - val_loss: 0.5006 - val_mae: 20.0347\n",
            "Epoch 105/200\n",
            "363/364 [============================>.] - ETA: 0s - loss: 0.4536 - mae: 19.9865\n",
            "Epoch 00105: val_loss did not improve from 0.49026\n",
            "364/364 [==============================] - 25s 70ms/step - loss: 0.4536 - mae: 19.9865 - val_loss: 0.5014 - val_mae: 20.0350\n",
            "Epoch 106/200\n",
            "363/364 [============================>.] - ETA: 0s - loss: 0.4534 - mae: 19.9858\n",
            "Epoch 00106: val_loss did not improve from 0.49026\n",
            "364/364 [==============================] - 26s 70ms/step - loss: 0.4535 - mae: 19.9864 - val_loss: 0.5389 - val_mae: 20.0429\n",
            "Epoch 107/200\n",
            "363/364 [============================>.] - ETA: 0s - loss: 0.4535 - mae: 19.9878\n",
            "Epoch 00107: val_loss did not improve from 0.49026\n",
            "364/364 [==============================] - 25s 70ms/step - loss: 0.4535 - mae: 19.9867 - val_loss: 0.5476 - val_mae: 20.0446\n",
            "Epoch 108/200\n",
            "363/364 [============================>.] - ETA: 0s - loss: 0.4538 - mae: 19.9860\n",
            "Epoch 00108: val_loss did not improve from 0.49026\n",
            "364/364 [==============================] - 25s 70ms/step - loss: 0.4537 - mae: 19.9868 - val_loss: 0.4987 - val_mae: 20.0346\n",
            "Epoch 109/200\n",
            "363/364 [============================>.] - ETA: 0s - loss: 0.4529 - mae: 19.9869\n",
            "Epoch 00109: val_loss did not improve from 0.49026\n",
            "364/364 [==============================] - 25s 70ms/step - loss: 0.4528 - mae: 19.9867 - val_loss: 0.5023 - val_mae: 20.0359\n",
            "Epoch 110/200\n",
            "363/364 [============================>.] - ETA: 0s - loss: 0.4530 - mae: 19.9864\n",
            "Epoch 00110: val_loss did not improve from 0.49026\n",
            "364/364 [==============================] - 26s 70ms/step - loss: 0.4530 - mae: 19.9869 - val_loss: 0.5067 - val_mae: 20.0370\n",
            "Epoch 111/200\n",
            "363/364 [============================>.] - ETA: 0s - loss: 0.4529 - mae: 19.9868\n",
            "Epoch 00111: val_loss did not improve from 0.49026\n",
            "364/364 [==============================] - 26s 70ms/step - loss: 0.4528 - mae: 19.9869 - val_loss: 0.4980 - val_mae: 20.0352\n",
            "Epoch 112/200\n",
            "363/364 [============================>.] - ETA: 0s - loss: 0.4524 - mae: 19.9872\n",
            "Epoch 00112: val_loss did not improve from 0.49026\n",
            "364/364 [==============================] - 25s 70ms/step - loss: 0.4524 - mae: 19.9869 - val_loss: 0.5349 - val_mae: 20.0427\n",
            "Epoch 113/200\n",
            "363/364 [============================>.] - ETA: 0s - loss: 0.4531 - mae: 19.9877\n",
            "Epoch 00113: val_loss improved from 0.49026 to 0.48942, saving model to mymodel_113.h5\n",
            "364/364 [==============================] - 26s 71ms/step - loss: 0.4531 - mae: 19.9871 - val_loss: 0.4894 - val_mae: 20.0328\n",
            "Epoch 114/200\n",
            "363/364 [============================>.] - ETA: 0s - loss: 0.4525 - mae: 19.9871\n",
            "Epoch 00114: val_loss did not improve from 0.48942\n",
            "364/364 [==============================] - 25s 70ms/step - loss: 0.4525 - mae: 19.9872 - val_loss: 0.4924 - val_mae: 20.0339\n",
            "Epoch 115/200\n",
            "363/364 [============================>.] - ETA: 0s - loss: 0.4522 - mae: 19.9861\n",
            "Epoch 00115: val_loss improved from 0.48942 to 0.48512, saving model to mymodel_115.h5\n",
            "364/364 [==============================] - 26s 71ms/step - loss: 0.4522 - mae: 19.9871 - val_loss: 0.4851 - val_mae: 20.0318\n",
            "Epoch 116/200\n",
            "363/364 [============================>.] - ETA: 0s - loss: 0.4521 - mae: 19.9865\n",
            "Epoch 00116: val_loss did not improve from 0.48512\n",
            "364/364 [==============================] - 26s 71ms/step - loss: 0.4521 - mae: 19.9872 - val_loss: 0.5012 - val_mae: 20.0360\n",
            "Epoch 117/200\n",
            "363/364 [============================>.] - ETA: 0s - loss: 0.4521 - mae: 19.9873\n",
            "Epoch 00117: val_loss did not improve from 0.48512\n",
            "364/364 [==============================] - 26s 70ms/step - loss: 0.4521 - mae: 19.9872 - val_loss: 0.4943 - val_mae: 20.0347\n",
            "Epoch 118/200\n",
            "363/364 [============================>.] - ETA: 0s - loss: 0.4514 - mae: 19.9872\n",
            "Epoch 00118: val_loss did not improve from 0.48512\n",
            "364/364 [==============================] - 25s 70ms/step - loss: 0.4514 - mae: 19.9874 - val_loss: 0.5111 - val_mae: 20.0386\n",
            "Epoch 119/200\n",
            "363/364 [============================>.] - ETA: 0s - loss: 0.4513 - mae: 19.9871\n",
            "Epoch 00119: val_loss did not improve from 0.48512\n",
            "364/364 [==============================] - 26s 70ms/step - loss: 0.4512 - mae: 19.9873 - val_loss: 0.5527 - val_mae: 20.0460\n",
            "Epoch 120/200\n",
            "363/364 [============================>.] - ETA: 0s - loss: 0.4521 - mae: 19.9872\n",
            "Epoch 00120: val_loss improved from 0.48512 to 0.47068, saving model to mymodel_120.h5\n",
            "364/364 [==============================] - 26s 70ms/step - loss: 0.4521 - mae: 19.9875 - val_loss: 0.4707 - val_mae: 20.0265\n",
            "Epoch 121/200\n",
            "363/364 [============================>.] - ETA: 0s - loss: 0.4515 - mae: 19.9870\n",
            "Epoch 00121: val_loss did not improve from 0.47068\n",
            "364/364 [==============================] - 26s 70ms/step - loss: 0.4515 - mae: 19.9874 - val_loss: 0.5049 - val_mae: 20.0377\n",
            "Epoch 122/200\n",
            "363/364 [============================>.] - ETA: 0s - loss: 0.4514 - mae: 19.9879\n",
            "Epoch 00122: val_loss did not improve from 0.47068\n",
            "364/364 [==============================] - 26s 70ms/step - loss: 0.4514 - mae: 19.9876 - val_loss: 0.4783 - val_mae: 20.0302\n",
            "Epoch 123/200\n",
            "363/364 [============================>.] - ETA: 0s - loss: 0.4508 - mae: 19.9872\n",
            "Epoch 00123: val_loss did not improve from 0.47068\n",
            "364/364 [==============================] - 26s 70ms/step - loss: 0.4508 - mae: 19.9876 - val_loss: 0.5047 - val_mae: 20.0377\n",
            "Epoch 124/200\n",
            "363/364 [============================>.] - ETA: 0s - loss: 0.4509 - mae: 19.9885\n",
            "Epoch 00124: val_loss did not improve from 0.47068\n",
            "364/364 [==============================] - 26s 70ms/step - loss: 0.4509 - mae: 19.9876 - val_loss: 0.5162 - val_mae: 20.0400\n",
            "Epoch 125/200\n",
            "363/364 [============================>.] - ETA: 0s - loss: 0.4506 - mae: 19.9873\n",
            "Epoch 00125: val_loss did not improve from 0.47068\n",
            "364/364 [==============================] - 25s 70ms/step - loss: 0.4506 - mae: 19.9877 - val_loss: 0.5015 - val_mae: 20.0373\n",
            "Epoch 126/200\n",
            "363/364 [============================>.] - ETA: 0s - loss: 0.4502 - mae: 19.9877\n",
            "Epoch 00126: val_loss did not improve from 0.47068\n",
            "364/364 [==============================] - 25s 70ms/step - loss: 0.4502 - mae: 19.9877 - val_loss: 0.5061 - val_mae: 20.0380\n",
            "Epoch 127/200\n",
            "363/364 [============================>.] - ETA: 0s - loss: 0.4502 - mae: 19.9883\n",
            "Epoch 00127: val_loss did not improve from 0.47068\n",
            "364/364 [==============================] - 25s 70ms/step - loss: 0.4502 - mae: 19.9879 - val_loss: 0.4986 - val_mae: 20.0362\n",
            "Epoch 128/200\n",
            "363/364 [============================>.] - ETA: 0s - loss: 0.4504 - mae: 19.9880\n",
            "Epoch 00128: val_loss did not improve from 0.47068\n",
            "364/364 [==============================] - 26s 71ms/step - loss: 0.4504 - mae: 19.9877 - val_loss: 0.4950 - val_mae: 20.0359\n",
            "Epoch 129/200\n",
            "363/364 [============================>.] - ETA: 0s - loss: 0.4500 - mae: 19.9889\n",
            "Epoch 00129: val_loss did not improve from 0.47068\n",
            "364/364 [==============================] - 26s 70ms/step - loss: 0.4500 - mae: 19.9880 - val_loss: 0.4892 - val_mae: 20.0341\n",
            "Epoch 130/200\n",
            "363/364 [============================>.] - ETA: 0s - loss: 0.4498 - mae: 19.9889\n",
            "Epoch 00130: val_loss did not improve from 0.47068\n",
            "364/364 [==============================] - 26s 70ms/step - loss: 0.4498 - mae: 19.9879 - val_loss: 0.5086 - val_mae: 20.0389\n",
            "Epoch 131/200\n",
            "363/364 [============================>.] - ETA: 0s - loss: 0.4501 - mae: 19.9879\n",
            "Epoch 00131: val_loss did not improve from 0.47068\n",
            "364/364 [==============================] - 25s 70ms/step - loss: 0.4501 - mae: 19.9879 - val_loss: 0.4744 - val_mae: 20.0295\n",
            "Epoch 132/200\n",
            "363/364 [============================>.] - ETA: 0s - loss: 0.4499 - mae: 19.9878\n",
            "Epoch 00132: val_loss did not improve from 0.47068\n",
            "364/364 [==============================] - 26s 70ms/step - loss: 0.4499 - mae: 19.9878 - val_loss: 0.5064 - val_mae: 20.0389\n",
            "Epoch 133/200\n",
            "363/364 [============================>.] - ETA: 0s - loss: 0.4497 - mae: 19.9883\n",
            "Epoch 00133: val_loss did not improve from 0.47068\n",
            "364/364 [==============================] - 25s 70ms/step - loss: 0.4497 - mae: 19.9882 - val_loss: 0.4930 - val_mae: 20.0352\n",
            "Epoch 134/200\n",
            "363/364 [============================>.] - ETA: 0s - loss: 0.4492 - mae: 19.9875\n",
            "Epoch 00134: val_loss did not improve from 0.47068\n",
            "364/364 [==============================] - 26s 70ms/step - loss: 0.4492 - mae: 19.9880 - val_loss: 0.5121 - val_mae: 20.0404\n",
            "Epoch 135/200\n",
            "363/364 [============================>.] - ETA: 0s - loss: 0.4492 - mae: 19.9882\n",
            "Epoch 00135: val_loss did not improve from 0.47068\n",
            "364/364 [==============================] - 26s 70ms/step - loss: 0.4491 - mae: 19.9883 - val_loss: 0.4858 - val_mae: 20.0337\n",
            "Epoch 136/200\n",
            "363/364 [============================>.] - ETA: 0s - loss: 0.4492 - mae: 19.9878\n",
            "Epoch 00136: val_loss did not improve from 0.47068\n",
            "364/364 [==============================] - 26s 70ms/step - loss: 0.4492 - mae: 19.9881 - val_loss: 0.5404 - val_mae: 20.0451\n",
            "Epoch 137/200\n",
            "363/364 [============================>.] - ETA: 0s - loss: 0.4494 - mae: 19.9877\n",
            "Epoch 00137: val_loss did not improve from 0.47068\n",
            "364/364 [==============================] - 26s 70ms/step - loss: 0.4494 - mae: 19.9883 - val_loss: 0.4976 - val_mae: 20.0369\n",
            "Epoch 138/200\n",
            "363/364 [============================>.] - ETA: 0s - loss: 0.4488 - mae: 19.9881\n",
            "Epoch 00138: val_loss did not improve from 0.47068\n",
            "364/364 [==============================] - 26s 70ms/step - loss: 0.4488 - mae: 19.9882 - val_loss: 0.4946 - val_mae: 20.0362\n",
            "Epoch 139/200\n",
            "363/364 [============================>.] - ETA: 0s - loss: 0.4491 - mae: 19.9880\n",
            "Epoch 00139: val_loss did not improve from 0.47068\n",
            "364/364 [==============================] - 26s 70ms/step - loss: 0.4491 - mae: 19.9884 - val_loss: 0.5120 - val_mae: 20.0399\n",
            "Epoch 140/200\n",
            "363/364 [============================>.] - ETA: 0s - loss: 0.4490 - mae: 19.9887\n",
            "Epoch 00140: val_loss did not improve from 0.47068\n",
            "364/364 [==============================] - 26s 70ms/step - loss: 0.4490 - mae: 19.9884 - val_loss: 0.4852 - val_mae: 20.0336\n",
            "Epoch 141/200\n",
            "363/364 [============================>.] - ETA: 0s - loss: 0.4485 - mae: 19.9891\n",
            "Epoch 00141: val_loss did not improve from 0.47068\n",
            "364/364 [==============================] - 26s 70ms/step - loss: 0.4485 - mae: 19.9886 - val_loss: 0.4879 - val_mae: 20.0341\n",
            "Epoch 142/200\n",
            "363/364 [============================>.] - ETA: 0s - loss: 0.4485 - mae: 19.9879\n",
            "Epoch 00142: val_loss did not improve from 0.47068\n",
            "364/364 [==============================] - 26s 71ms/step - loss: 0.4485 - mae: 19.9883 - val_loss: 0.4901 - val_mae: 20.0353\n",
            "Epoch 143/200\n",
            "363/364 [============================>.] - ETA: 0s - loss: 0.4484 - mae: 19.9886\n",
            "Epoch 00143: val_loss did not improve from 0.47068\n",
            "364/364 [==============================] - 26s 71ms/step - loss: 0.4484 - mae: 19.9884 - val_loss: 0.5096 - val_mae: 20.0398\n",
            "Epoch 144/200\n",
            "363/364 [============================>.] - ETA: 0s - loss: 0.4484 - mae: 19.9885\n",
            "Epoch 00144: val_loss did not improve from 0.47068\n",
            "364/364 [==============================] - 26s 70ms/step - loss: 0.4484 - mae: 19.9885 - val_loss: 0.5031 - val_mae: 20.0386\n",
            "Epoch 145/200\n",
            "363/364 [============================>.] - ETA: 0s - loss: 0.4484 - mae: 19.9879\n",
            "Epoch 00145: val_loss did not improve from 0.47068\n",
            "364/364 [==============================] - 26s 71ms/step - loss: 0.4484 - mae: 19.9885 - val_loss: 0.4877 - val_mae: 20.0349\n",
            "Epoch 146/200\n",
            "363/364 [============================>.] - ETA: 0s - loss: 0.4482 - mae: 19.9885\n",
            "Epoch 00146: val_loss did not improve from 0.47068\n",
            "364/364 [==============================] - 26s 71ms/step - loss: 0.4482 - mae: 19.9886 - val_loss: 0.4868 - val_mae: 20.0346\n",
            "Epoch 147/200\n",
            "363/364 [============================>.] - ETA: 0s - loss: 0.4477 - mae: 19.9883\n",
            "Epoch 00147: val_loss did not improve from 0.47068\n",
            "364/364 [==============================] - 26s 71ms/step - loss: 0.4477 - mae: 19.9884 - val_loss: 0.4916 - val_mae: 20.0361\n",
            "Epoch 148/200\n",
            "363/364 [============================>.] - ETA: 0s - loss: 0.4477 - mae: 19.9889\n",
            "Epoch 00148: val_loss did not improve from 0.47068\n",
            "364/364 [==============================] - 26s 71ms/step - loss: 0.4477 - mae: 19.9886 - val_loss: 0.4915 - val_mae: 20.0359\n",
            "Epoch 149/200\n",
            "363/364 [============================>.] - ETA: 0s - loss: 0.4479 - mae: 19.9893\n",
            "Epoch 00149: val_loss did not improve from 0.47068\n",
            "364/364 [==============================] - 26s 71ms/step - loss: 0.4479 - mae: 19.9887 - val_loss: 0.4884 - val_mae: 20.0353\n",
            "Epoch 150/200\n",
            "363/364 [============================>.] - ETA: 0s - loss: 0.4478 - mae: 19.9889\n",
            "Epoch 00150: val_loss did not improve from 0.47068\n",
            "364/364 [==============================] - 26s 71ms/step - loss: 0.4478 - mae: 19.9888 - val_loss: 0.5069 - val_mae: 20.0394\n",
            "dict_keys(['loss', 'mae', 'val_loss', 'val_mae'])\n"
          ],
          "name": "stdout"
        },
        {
          "output_type": "display_data",
          "data": {
            "image/png": "[encoded data removed]",
            "text/plain": [
              "<Figure size 432x288 with 1 Axes>"
            ]
          },
          "metadata": {
            "tags": [],
            "needs_background": "light"
          }
        },
        {
          "output_type": "display_data",
          "data": {
            "image/png": "[encoded data removed]",
            "text/plain": [
              "<Figure size 432x288 with 1 Axes>"
            ]
          },
          "metadata": {
            "tags": [],
            "needs_background": "light"
          }
        }
      ]
    },
    {
      "cell_type": "code",
      "metadata": {
        "id": "sODupPHGFeks",
        "outputId": "62e52348-90c7-42b9-a1b9-402eda490054",
        "colab": {
          "base_uri": "https://localhost:8080/",
          "height": 36
        }
      },
      "source": [
        "#Save the best model\n",
        "shutil.copy('/content/mymodel_120.h5', '/content/drive/My Drive/mymodel_120.h5')"
      ],
      "execution_count": null,
      "outputs": [
        {
          "output_type": "execute_result",
          "data": {
            "application/vnd.google.colaboratory.intrinsic+json": {
              "type": "string"
            },
            "text/plain": [
              "'/content/drive/My Drive/mymodel_50.h5'"
            ]
          },
          "metadata": {
            "tags": []
          },
          "execution_count": 10
        }
      ]
    }
  ]
}